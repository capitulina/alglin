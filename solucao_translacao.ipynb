{
 "cells": [
  {
   "cell_type": "code",
   "execution_count": 2,
   "metadata": {},
   "outputs": [],
   "source": [
    "import numpy as np\n",
    "\n",
    "def T(theta, x, y): \n",
    "        \n",
    "    R = np.array( [[np.cos(theta), -np.sin(theta), 0],\n",
    "                    [np.sin(theta), np.cos(theta), 0],\n",
    "                    [0, 0, 1]])\n",
    "    \n",
    "    T = np.array( [[1, 0, -x],\n",
    "                    [0, 1, -y],\n",
    "                    [0, 0, 1]])\n",
    "    \n",
    "    return np.linalg.inv(T) @ R @ T"
   ]
  },
  {
   "cell_type": "code",
   "execution_count": 3,
   "metadata": {},
   "outputs": [
    {
     "data": {
      "text/plain": [
       "array([[ 0.16996714, -0.98544973, -4.81316199],\n",
       "       [ 0.98544973,  0.16996714, -3.88561274],\n",
       "       [ 0.        ,  0.        ,  1.        ]])"
      ]
     },
     "execution_count": 3,
     "metadata": {},
     "output_type": "execute_result"
    }
   ],
   "source": [
    "T(1.4, -0.1, -4.8)"
   ]
  },
  {
   "cell_type": "code",
   "execution_count": null,
   "metadata": {},
   "outputs": [],
   "source": []
  }
 ],
 "metadata": {
  "kernelspec": {
   "display_name": "irnn",
   "language": "python",
   "name": "python3"
  },
  "language_info": {
   "codemirror_mode": {
    "name": "ipython",
    "version": 3
   },
   "file_extension": ".py",
   "mimetype": "text/x-python",
   "name": "python",
   "nbconvert_exporter": "python",
   "pygments_lexer": "ipython3",
   "version": "3.11.10"
  }
 },
 "nbformat": 4,
 "nbformat_minor": 2
}
