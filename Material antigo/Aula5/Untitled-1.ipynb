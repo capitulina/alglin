{
 "cells": [
  {
   "cell_type": "code",
   "execution_count": 2,
   "metadata": {},
   "outputs": [
    {
     "name": "stdout",
     "output_type": "stream",
     "text": [
      "{'filho_0': {'prob': 0.375, 'valor': 1},\n",
      " 'filho_1': {'filho_0': {'prob': 0.25, 'valor': 255},\n",
      "             'filho_1': {'filho_0': {'prob': 0.125, 'valor': 102},\n",
      "                         'filho_1': {'filho_0': {'prob': 0.125, 'valor': 100},\n",
      "                                     'filho_1': {'prob': 0.125, 'valor': 101},\n",
      "                                     'prob': 0.25,\n",
      "                                     'valor': 'NAO_FOLHA'},\n",
      "                         'prob': 0.375,\n",
      "                         'valor': 'NAO_FOLHA'},\n",
      "             'prob': 0.625,\n",
      "             'valor': 'NAO_FOLHA'},\n",
      " 'prob': 1.0,\n",
      " 'valor': 'NAO_FOLHA'}\n"
     ]
    }
   ],
   "source": [
    "def huffman_tree(itens : list):\n",
    "    \"\"\"Monta a arvore de codificacao usando o algoritmo de huffman\"\"\"\n",
    "    def get_prob(item):\n",
    "        return item['prob']\n",
    "\n",
    "    f = []\n",
    "\n",
    "    # Calcula probabilidade de cada caractere      \n",
    "    for c in set(itens):\n",
    "        f.append(  {'prob':itens.count(c)/len(itens), 'valor':c} )\n",
    "    f.sort(key=get_prob)\n",
    "    \n",
    "    while len(f) > 1:\n",
    "        c1 = f.pop(0)\n",
    "        c2 = f.pop(0)\n",
    "        novo_node = {'valor':'NAO_FOLHA', 'prob':c1['prob']+c2['prob'], 'filho_0':c1, 'filho_1': c2}\n",
    "        \n",
    "        f.insert(0, novo_node)\n",
    "        f.sort(key=get_prob)\n",
    "\n",
    "    return f[0]\n",
    "\n",
    "from pprint import pprint\n",
    "pprint(huffman_tree([1, 255, 1, 255, 1, 100, 101, 102]))"
   ]
  },
  {
   "cell_type": "code",
   "execution_count": 9,
   "metadata": {},
   "outputs": [
    {
     "data": {
      "image/png": "[encoded data removed]",
      "text/plain": [
       "<Figure size 500x300 with 1 Axes>"
      ]
     },
     "metadata": {},
     "output_type": "display_data"
    }
   ],
   "source": [
    "import numpy as np\n",
    "values = np.random.randint(1, 10, 6) * 10\n",
    "x = range(len(values))\n",
    "import matplotlib.pyplot as plt\n",
    "\n",
    "plt.figure(figsize=(5,3))\n",
    "plt.bar(x, values)\n",
    "for i, v in enumerate(values):\n",
    "    plt.text(i, v + 1, str(v), ha='center')\n",
    "plt.xticks(x)\n",
    "plt.ylabel('Número de ocorrências')\n",
    "plt.ylim(0, max(values)+10)\n",
    "plt.xlabel('Valor')\n",
    "plt.show()"
   ]
  },
  {
   "cell_type": "code",
   "execution_count": 11,
   "metadata": {},
   "outputs": [
    {
     "name": "stdout",
     "output_type": "stream",
     "text": [
      "{'filho_0': {'prob': 0.4, 'valor': 3},\n",
      " 'filho_1': {'filho_0': {'prob': 0.3, 'valor': 2},\n",
      "             'filho_1': {'filho_0': {'prob': 0.1, 'valor': 0},\n",
      "                         'filho_1': {'prob': 0.2, 'valor': 1},\n",
      "                         'prob': 0.30000000000000004,\n",
      "                         'valor': 'NAO_FOLHA'},\n",
      "             'prob': 0.6000000000000001,\n",
      "             'valor': 'NAO_FOLHA'},\n",
      " 'prob': 1.0,\n",
      " 'valor': 'NAO_FOLHA'}\n"
     ]
    }
   ],
   "source": [
    "def huffman_tree_from_item_probs(items : list, probs : list):\n",
    "    \"\"\"Monta a arvore de codificacao usando o algoritmo de huffman\"\"\"\n",
    "    def get_prob(item):\n",
    "        return item['prob']\n",
    "\n",
    "    f = []\n",
    "\n",
    "    # Calcula probabilidade de cada caractere      \n",
    "    for c, p in zip(items, probs):\n",
    "        f.append(  {'prob':p, 'valor':c} )\n",
    "    f.sort(key=get_prob)\n",
    "    \n",
    "    while len(f) > 1:\n",
    "        c1 = f.pop(0)\n",
    "        c2 = f.pop(0)\n",
    "        novo_node = {'valor':'NAO_FOLHA', 'prob':c1['prob']+c2['prob'], 'filho_0':c1, 'filho_1': c2}\n",
    "        \n",
    "        f.insert(0, novo_node)\n",
    "        f.sort(key=get_prob)\n",
    "\n",
    "    return f[0]\n",
    "\n",
    "from pprint import pprint\n",
    "pprint(huffman_tree_from_item_probs([0, 1, 2, 3], [0.1, 0.2, 0.3, 0.4]))"
   ]
  },
  {
   "cell_type": "code",
   "execution_count": 12,
   "metadata": {},
   "outputs": [
    {
     "data": {
      "text/plain": [
       "{3: '0', 2: '10', 0: '110', 1: '111'}"
      ]
     },
     "execution_count": 12,
     "metadata": {},
     "output_type": "execute_result"
    }
   ],
   "source": [
    "def get_code_dict_from_tree(tree:dict):\n",
    "    \"\"\"Retorna um dicionario com os codigos de cada item\"\"\"\n",
    "    def get_code_dict_from_tree_rec(tree, code, code_dict):\n",
    "        if tree['valor'] != 'NAO_FOLHA':\n",
    "            code_dict[tree['valor']] = code\n",
    "        else:\n",
    "            get_code_dict_from_tree_rec(tree['filho_0'], code+'0', code_dict)\n",
    "            get_code_dict_from_tree_rec(tree['filho_1'], code+'1', code_dict)\n",
    "    \n",
    "    code_dict = {}\n",
    "    get_code_dict_from_tree_rec(tree, '', code_dict)\n",
    "    return code_dict\n",
    "\n",
    "get_code_dict_from_tree(huffman_tree_from_item_probs([0, 1, 2, 3], [0.1, 0.2, 0.3, 0.4]))"
   ]
  },
  {
   "cell_type": "code",
   "execution_count": 14,
   "metadata": {},
   "outputs": [],
   "source": [
    "def huffman_encode(tree:dict, data:list):\n",
    "    \"\"\"Codifica uma lista de dados usando a arvore de huffman\"\"\"\n",
    "    code_dict = get_code_dict_from_tree(tree)\n",
    "    return ''.join([code_dict[c] for c in data])\n"
   ]
  },
  {
   "cell_type": "code",
   "execution_count": 18,
   "metadata": {},
   "outputs": [
    {
     "data": {
      "text/plain": [
       "'110110110111111111101010000000000000000000'"
      ]
     },
     "execution_count": 18,
     "metadata": {},
     "output_type": "execute_result"
    }
   ],
   "source": [
    "tree = huffman_tree_from_item_probs([0, 1, 2, 3], [0.1, 0.2, 0.3, 0.4])\n",
    "huffman_encode(tree, [0, 0, 0, 1, 1, 1, 2, 2, 2, 3, 3, 3, 3, 3, 3, 3, 3, 3, 3, 3, 3, 3, 3, 3, 3, 3, 3])"
   ]
  },
  {
   "cell_type": "markdown",
   "metadata": {},
   "source": [
    "Romeu está tentando impressionar Julieta com presentes. A cada dia, Romeu envia um presente. Porém, Julieta descobriu que Romeu segue um padrão estranho em seus presentes. Romeu sempre envia, a cada dia, ou um Anel, ou um Bombom, ou um Colar. Só que eles estão organizados de uma forma estranha:\n",
    "\n",
    "* Se num dia Romeu enviou um Anel, ele sempre tem 60% de chance de enviar um Bombom e 40% de chance de enviar um Colar no dia seguinte.\n",
    "* Se enviou um Bombom em um dia, tem 60% de chance de enviar um Anel e 50% de chance de enviar um Colar no dia seguinte.\n",
    "* Se enviou num dia um Colar, tem 70% de chance de enviar um Bombom e 30% de chance de enviar um Anel no dia seguinte.\n",
    "\n",
    "Assumindo que Romeu manterá esse padrão, então, ao longo de 100 dias deste estranho cortejo, quantos anéis, bombons e colares Julieta pode esperar receber?\n"
   ]
  },
  {
   "cell_type": "code",
   "execution_count": 38,
   "metadata": {},
   "outputs": [
    {
     "name": "stdout",
     "output_type": "stream",
     "text": [
      "[[0.  0.5 0.3]\n",
      " [0.6 0.  0.7]\n",
      " [0.4 0.5 0. ]]\n",
      "[ 1.         -0.35857864 -0.64142136]\n",
      "[[-0.50045921 -0.79410449  0.47596315]\n",
      " [-0.67754478  0.23258782 -0.81251992]\n",
      " [-0.53895607  0.56151667  0.33655677]]\n",
      "[29.1 39.5 31.4]\n"
     ]
    }
   ],
   "source": [
    "A = np.array([[0, 0.5, 0.3], [0.6, 0, 0.7], [0.4, 0.5, 0]])\n",
    "print(A)\n",
    "w, h = np.linalg.eig(A)\n",
    "print(w)\n",
    "print(h)\n",
    "p = h[:,0]/np.sum(h[:,0])\n",
    "print(np.round(p*100,1))"
   ]
  },
  {
   "cell_type": "code",
   "execution_count": null,
   "metadata": {},
   "outputs": [],
   "source": []
  }
 ],
 "metadata": {
  "kernelspec": {
   "display_name": "aulas",
   "language": "python",
   "name": "python3"
  },
  "language_info": {
   "codemirror_mode": {
    "name": "ipython",
    "version": 3
   },
   "file_extension": ".py",
   "mimetype": "text/x-python",
   "name": "python",
   "nbconvert_exporter": "python",
   "pygments_lexer": "ipython3",
   "version": "3.12.5"
  }
 },
 "nbformat": 4,
 "nbformat_minor": 2
}
