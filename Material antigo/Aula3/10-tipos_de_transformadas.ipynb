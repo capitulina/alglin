{
 "cells": [
  {
   "cell_type": "markdown",
   "metadata": {},
   "source": [
    "# Tipos de transformadas\n",
    "\n",
    "Existem algumas transformações que são conhecidas por seus nomes:\n",
    "\n",
    "* Rotação\n",
    "* Cisalhamento\n",
    "* Expansão ou contração (no eixo X e/ou no eixo Y)\n",
    "\n",
    "Usando o código abaixo como base, identifique as matrizes, dentre as abaixo, que correspondem a rotações, cisalhamentos, expansões ou contrações:\n",
    "$$\n",
    "\\begin{bmatrix}\n",
    "    1 & 0\\\\\n",
    "    0 & 2\n",
    "\\end{bmatrix}\n",
    "\\begin{bmatrix}\n",
    "    1 & 1\\\\\n",
    "    0 & 1\n",
    "\\end{bmatrix}\n",
    "\\begin{bmatrix}\n",
    "    1 & 0\\\\\n",
    "    1 & 1\n",
    "\\end{bmatrix}\n",
    "\\begin{bmatrix}\n",
    "    0.7 & -0.7\\\\\n",
    "    0.7 & 0.7\n",
    "\\end{bmatrix}\n",
    "\\begin{bmatrix}\n",
    "    0.86 & -0.5\\\\\n",
    "    0.5 & 0.86\n",
    "\\end{bmatrix}\n",
    "$$"
   ]
  },
  {
   "cell_type": "code",
   "execution_count": null,
   "metadata": {},
   "outputs": [],
   "source": [
    "import numpy as np\n",
    "import matplotlib.pyplot as plt \n",
    "\n",
    "x = np.random.uniform(-0.5, 0.5, size=(2, 600))\n",
    "A = np.array([ [2, 0], [0, 2] ])\n",
    "y = A @ x\n",
    "plt.figure()\n",
    "plt.scatter(x[0,:], x[1,:], s=1, c='r')\n",
    "plt.scatter(y[0,:], y[1,:], s=1, c='b')\n",
    "plt.xlim([-2, 2])\n",
    "plt.ylim([-2, 2])\n",
    "plt.grid()\n",
    "plt.show()"
   ]
  }
 ],
 "metadata": {
  "language_info": {
   "name": "python"
  }
 },
 "nbformat": 4,
 "nbformat_minor": 2
}
