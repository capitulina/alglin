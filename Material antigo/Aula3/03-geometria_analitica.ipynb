{
 "cells": [
  {
   "cell_type": "markdown",
   "metadata": {},
   "source": [
    "# Transformando posições no espaço com transformações lineares\n",
    "\n",
    "Este capítulo está ligado ao seguintes objetivos didáticos do curos:\n",
    "1. Avaliar e resolver sistemas de equações lineares\n",
    "1. Interpretar e analisar transformações lineares\n",
    "\n",
    "Referência bibliográfica: [Jim Hefferon - Linear Algebra - 4th Edition](https://hefferon.net/linearalgebra/) - Chap. Three, I"
   ]
  },
  {
   "cell_type": "code",
   "execution_count": 1,
   "metadata": {},
   "outputs": [],
   "source": [
    "import numpy as np\n",
    "import matplotlib.pyplot as plt\n",
    "import matplotlib.image as mpimg\n",
    "\n",
    "from matplotlib.patches import Rectangle"
   ]
  },
  {
   "cell_type": "markdown",
   "metadata": {},
   "source": [
    "# Etapa 1\n"
   ]
  },
  {
   "cell_type": "markdown",
   "metadata": {},
   "source": [
    "# Exercício 1\n",
    "**Objetivo: traçar retas à partir das equações da reta**\n",
    "\n",
    "As equações de primeiro grau são aquelas que relacionam uma variável de entrada ($x$) a uma saída ($y$) por meio de um polinômio de primeiro grau como:\n",
    "\n",
    "$$\n",
    "y = ax + b\n",
    "$$\n",
    "\n",
    "Esse tipo de equação também é chamado de \"equação da reta\". O motivo disso é que os pontos $(x_0,y_0)$ que satisfazem a essa equação se organizam em uma reta:"
   ]
  },
  {
   "cell_type": "code",
   "execution_count": null,
   "metadata": {},
   "outputs": [],
   "source": [
    "x = np.linspace(-1, 1, 100)\n",
    "a, b = 1, -2\n",
    "y = a*x + b\n",
    "\n",
    "plt.figure()\n",
    "plt.plot(x, y)\n",
    "plt.grid()\n",
    "plt.xlabel('x')\n",
    "plt.ylabel('y')\n",
    "plt.show()"
   ]
  },
  {
   "cell_type": "markdown",
   "metadata": {},
   "source": [
    "Uma outra forma de escrever a equação da reta é usar a forma geral: \n",
    "\n",
    "$$\n",
    "Ax + By + C = 0\n",
    "$$\n",
    "\n",
    "Nesse caso, para traçar a reta, é preciso isolar $y$ e então proceder normalmente.\n",
    "\n",
    "Trace, na mesma figura, as retas:\n",
    "1. $y = 0.5x$\n",
    "2. $y = 1 - 0.5x$\n",
    "3. $2y - 2 - x = 0$\n",
    "4. $y = 2$"
   ]
  },
  {
   "cell_type": "code",
   "execution_count": 3,
   "metadata": {},
   "outputs": [],
   "source": [
    "# Resolva o exercício aqui"
   ]
  },
  {
   "cell_type": "code",
   "execution_count": null,
   "metadata": {},
   "outputs": [],
   "source": []
  },
  {
   "cell_type": "markdown",
   "metadata": {},
   "source": [
    "# Exercício 2\n",
    "**Objetivo: relacionar retas a sistemas lineares**\n",
    "\n",
    "Dois corredores estão correndo por uma trilha. Um deles parte da marcação do km 3, e corre a 5km/h. O outro deles parte da marcação do km 5 e corre a 2km/h, na mesma direção do primeiro. Para encontrar a posição na estrada e o instante em que eles vão se encontrar, podemos modelar e resolver o sistema da seguinte forma (se quiser ver uma animação com a solução, clique na figura!):\n",
    "\n",
    "<a href=\"resolvendo_sistema.gif\"><img src=\"resolvendo_sistema.png\" width=600></a>\n",
    "\n",
    "Nesta solução:\n",
    "\n",
    "1. Qual variável (x ou y) representa o tempo decorrido desde o início da corrida?\n",
    "2. Qual variável (x ou y) representa o espaço ao longo da trilha?\n",
    "3. Qual equação (azul ou vermelha) representa o movimento do primeiro corredor?\n",
    "4. Qual equação (azul ou vermelha) representa o movimento do segundo corredor?\n",
    "5. Após quanto tempo os corredores se encontrarão?\n",
    "6. Em que local da trilha os corredores se encontrarão?\n",
    "\n",
    "Após esta análise,\n",
    "\n",
    "7. Trace as retas que representam os movimentos dos corredores\n",
    "8. Qual é o ponto em que as retas se encontram?"
   ]
  },
  {
   "cell_type": "code",
   "execution_count": 4,
   "metadata": {},
   "outputs": [],
   "source": [
    "# Resolva seu exercício aqui"
   ]
  },
  {
   "cell_type": "markdown",
   "metadata": {},
   "source": [
    "# Exercício 3\n",
    "**Objetivo: relacionar sistemas lineares a conjuntos de retas**\n",
    "\n",
    "O sistema de equações acima é:\n",
    "\n",
    "$$\n",
    "\\begin{cases}\n",
    "\\begin{aligned}\n",
    "  y &= 5x + 3\\\\\n",
    "  y &= 2x + 5\n",
    "\\end{aligned}\n",
    "\\end{cases}\n",
    "$$\n",
    "\n",
    "Ele pode ser re-escrito como:\n",
    "$$\n",
    "\\begin{cases}\n",
    "\\begin{aligned}\n",
    "  -5x + 1y  &= 3\\\\\n",
    "  -2 + 1y  &=  5\n",
    "\\end{aligned}\n",
    "\\end{cases}\n",
    "$$\n",
    "\n",
    "e, na forma matricial, ficaríamos com:\n",
    "$$\n",
    "\n",
    "\\begin{bmatrix}\n",
    "    -5 & 1\\\\\n",
    "    -2 & 1\n",
    "\\end{bmatrix} \n",
    "\\begin{bmatrix}\n",
    "    x \\\\\n",
    "    y\n",
    "\\end{bmatrix}\n",
    "=\n",
    "\\begin{bmatrix}\n",
    "    3 \\\\\n",
    "    5 \n",
    "\\end{bmatrix}\n",
    "$$\n",
    "\n",
    "1. Use a instrução `linalg.solve` para resolver esse sistema. A solução é a mesma da que fizemos manualmente?\n",
    "2. O procedimento abaixo pode ser usado para \"recuperar\" as equações da reta que levaram à expressão matricial (se quiser ver uma animação, clique na figura). Use o procedimento para recuperar a equação da segunda reta correspondente a este exercício.\n",
    "<a href=\"matriz_para_reta.gif\"><img src=\"matriz_para_reta.png\" width=600></a>"
   ]
  },
  {
   "cell_type": "code",
   "execution_count": 5,
   "metadata": {},
   "outputs": [],
   "source": [
    "# Lembre-se da sintaxe para escrever matrizes em Python:\n",
    "A = np.array( [ [-5,1], [-2,1]])\n",
    "y = np.array( [[3], [5]])\n"
   ]
  },
  {
   "cell_type": "code",
   "execution_count": null,
   "metadata": {},
   "outputs": [],
   "source": []
  },
  {
   "cell_type": "code",
   "execution_count": null,
   "metadata": {},
   "outputs": [],
   "source": []
  },
  {
   "cell_type": "markdown",
   "metadata": {},
   "source": [
    "# Exercício 4\n",
    "**Objetivo: resolver um sistema com apoio gráfico**\n",
    "\n",
    "1. Um programador entra em um bar e pede três coxinhas e um brigadeiro. Sua conta dá um total de 17 reais. Trace a reta que representa todos os possíveis preços de coxinhas e de brigadeiros para esta compra.\n",
    "\n",
    "2. Em seguida, um outro programador entra nesse mesmo bar. Ele pede duas coxinhas e um brigadeiro, e sua conta dá um total de 12 reais. Complemente o mesmo gráfico anterior traçando a reta que representa todos os possíveis preços de coxinhas e brigadeiros nessa segunda compra.\n",
    "\n",
    "3. Usando `np.linalg.solve`, encontre: qual é o preço da coxinha e qual é o preço do brigadeiro? Marque a solução no gráfico.\n",
    "\n"
   ]
  },
  {
   "cell_type": "code",
   "execution_count": 6,
   "metadata": {},
   "outputs": [],
   "source": [
    "# Resolva seu exercício aqui."
   ]
  },
  {
   "cell_type": "markdown",
   "metadata": {},
   "source": [
    "# Exercício 5\n",
    "**Objetivo: relacionar o paralelismo de retas com a solução do sistema correspondente**\n",
    "\n",
    "Dizemos que duas retas são paralelas quando seus coeficientes angulares (o \"$a$\" na equação $y=ax+b$) é igual. Por exemplo:"
   ]
  },
  {
   "cell_type": "code",
   "execution_count": null,
   "metadata": {},
   "outputs": [],
   "source": [
    "import numpy as np\n",
    "import matplotlib.pyplot as plt\n",
    "x = np.linspace(-1, 1, 100)\n",
    "a1, a2, b1, b2 = 2, 2, -1, 0\n",
    "y1 = a1*x+b1\n",
    "y2 = a2*x+b2\n",
    "plt.figure(figsize=(3,2))\n",
    "plt.plot(x, y1)\n",
    "plt.plot(x, y2)\n",
    "plt.xlim([0,1])\n",
    "plt.ylim([-2,2])\n",
    "plt.xticks()\n",
    "plt.yticks()\n",
    "plt.show()"
   ]
  },
  {
   "cell_type": "markdown",
   "metadata": {},
   "source": [
    "1. No sistema: \n",
    "\n",
    "$$\n",
    "\\begin{bmatrix}\n",
    "    1 & 2\\\\\n",
    "    2 & D\n",
    "\\end{bmatrix} \n",
    "\\begin{bmatrix}\n",
    "    x \\\\\n",
    "    y\n",
    "\\end{bmatrix}\n",
    "=\n",
    "\\begin{bmatrix}\n",
    "    3 \\\\\n",
    "    4 \n",
    "\\end{bmatrix}\n",
    "$$\n",
    "\n",
    "determine o valor de $D$ para que as retas correspondentes a este sistema sejam paralelas.\n",
    "\n",
    "2. Tente usar `np.linalg.solve` para resolver o sistema usando o valor de $D$ que você encontrou. O que o algoritmo retorna? Por que?\n",
    "\n",
    "3. O valor de $D$ depende dos valores da matriz do lado direito da equação?"
   ]
  },
  {
   "cell_type": "code",
   "execution_count": null,
   "metadata": {},
   "outputs": [],
   "source": [
    "D = 0\n",
    "A = np.array([[1, 2], [2, D]])\n",
    "y = np.array([[3],[4]])\n",
    "x = np.linalg.solve(A, y)\n",
    "print(x)"
   ]
  },
  {
   "cell_type": "markdown",
   "metadata": {},
   "source": [
    "# Exercício 6\n",
    "**Objetivo: relacionar o paralelismo de retas ao determinante da matriz**\n",
    "\n",
    "Quando um sistema de equações está relacionado a retas paralelas, temos duas possibilidades:\n",
    "\n",
    "1. Se as retas nunca se encontram, então o sistema não tem solução.\n",
    "2. Se as retas se sobrepõem, então temos infinitas soluções.\n",
    "\n",
    "O problema de saber se o sistema tem solução *antes* de tentar resolvê-lo foi bastante estudado no passado, porque resolver sistemas é bastante trabalhoso. A solução para esse problema foi o *determinante*. O determinante é um valor que é calculado à partir da matriz $A$ em sistemas $Ax=y$, e ele é diferente de $0$ caso o sistema correspondente tenha solução única, e é igual a $0$ caso ou não tenha solução ou tenha infinitas soluções.\n",
    "\n",
    "Uma matriz cujo determinante é zero é chamada de *singular*. Uma matriz singular não tem matriz inversa!\n",
    "\n",
    "Em Python, podemos calcular o determinante de uma matriz usando `np.linalg.det`:"
   ]
  },
  {
   "cell_type": "code",
   "execution_count": null,
   "metadata": {},
   "outputs": [],
   "source": [
    "A = np.array([[1, 2],[2, 0]])\n",
    "print(np.linalg.det(A))\n",
    "\n",
    "A = np.array([[1, 2],[2, 4]])\n",
    "print(np.linalg.det(A))"
   ]
  },
  {
   "cell_type": "markdown",
   "metadata": {},
   "source": [
    "# Exercício 7\n",
    "**Objetivo: analisar o erro relacionado a tentar inverter uma matriz singular**\n",
    "\n",
    "Uma matriz singular não tem inversa. Porém, podemos tentar inverter uma matriz singular usando Python. Qual é o erro que `np.linalg.inv(X)` retorna quando `X` é uma matriz singular? Como esse erro pode ser interpretado?"
   ]
  },
  {
   "cell_type": "code",
   "execution_count": 10,
   "metadata": {},
   "outputs": [],
   "source": [
    "# RESOLVA O EXERCÍCIO AQUI"
   ]
  },
  {
   "cell_type": "markdown",
   "metadata": {},
   "source": [
    "# Exercício 8\n",
    "**Objetivo: relacionar o determinante à geometria de um sistema**\n",
    "\n",
    "Use a formulação matricial de sistemas e o cálculo de um determinante para determinar se as retas:\n",
    "\n",
    "$4x + 5y=-3$\n",
    "\n",
    "e \n",
    "\n",
    "$y=6x+5$ \n",
    "  \n",
    "se cruzam."
   ]
  },
  {
   "cell_type": "code",
   "execution_count": 11,
   "metadata": {},
   "outputs": [],
   "source": [
    "# RESOLVA SEU EXERCÍCIO AQUI"
   ]
  },
  {
   "cell_type": "markdown",
   "metadata": {},
   "source": [
    "# Etapa 2"
   ]
  },
  {
   "cell_type": "markdown",
   "metadata": {},
   "source": [
    "# Exercício 9\n",
    "**Objetivo: visualizar uma núvem de pontos e calcular a área de núvens de pontos**\n",
    "\n",
    "Neste exercício e nos próximos, vamos usar visualizações com núvens de pontos. Inicialmente, vamos entender bem como usar esse recurso de visualização.\n",
    "\n",
    "1. Na figura abaixo, encontre a área ocupada pela nuvem de pontos.\n",
    "2. Modifique os parâmetros da chamada `np.random.uniform(-0.5, 0.5, size=(2, 600))` para que a núvem de pontos ocupe uma área 4 vezes maior que a que você calculou inicialmente. A solução para isso é única?"
   ]
  },
  {
   "cell_type": "code",
   "execution_count": null,
   "metadata": {},
   "outputs": [],
   "source": [
    "x = np.random.uniform(-0.5, 0.5, size=(2, 600))\n",
    "plt.figure()\n",
    "plt.scatter(x[0,:], x[1,:], s=1, c='r')\n",
    "plt.xlim([-2, 2])\n",
    "plt.ylim([-2, 2])\n",
    "plt.grid()\n",
    "plt.show()"
   ]
  },
  {
   "cell_type": "markdown",
   "metadata": {},
   "source": [
    "# Exercício 10\n",
    "**Objetivo: identificar diferentes tipos de transformadas**\n",
    "\n",
    "Quando multiplicamos a núvem de pontos por uma matriz $A$, levamos a uma transformação de seu formato:"
   ]
  },
  {
   "cell_type": "code",
   "execution_count": null,
   "metadata": {},
   "outputs": [],
   "source": [
    "x = np.random.uniform(-0.5, 0.5, size=(2, 600))\n",
    "A = np.array([ [2, 0], [0, 2] ])\n",
    "y = A @ x\n",
    "plt.figure()\n",
    "plt.scatter(x[0,:], x[1,:], s=1, c='r')\n",
    "plt.scatter(y[0,:], y[1,:], s=1, c='b')\n",
    "plt.xlim([-2, 2])\n",
    "plt.ylim([-2, 2])\n",
    "plt.grid()\n",
    "plt.show()"
   ]
  },
  {
   "cell_type": "markdown",
   "metadata": {},
   "source": [
    "Existem algumas transformações que são conhecidas por seus nomes:\n",
    "\n",
    "* Rotação\n",
    "* Cisalhamento\n",
    "* Expansão ou contração (no eixo X e/ou no eixo Y)\n",
    "\n",
    "1. Usando o código acima como base, identifique as matrizes, dentre as abaixo, que correspondem a rotações, cisalhamentos, expansões ou contrações:\n",
    "$$\n",
    "\\begin{bmatrix}\n",
    "    1 & 0\\\\\n",
    "    0 & 2\n",
    "\\end{bmatrix}\n",
    "\\begin{bmatrix}\n",
    "    1 & 1\\\\\n",
    "    0 & 1\n",
    "\\end{bmatrix}\n",
    "\\begin{bmatrix}\n",
    "    1 & 0\\\\\n",
    "    1 & 1\n",
    "\\end{bmatrix}\n",
    "\\begin{bmatrix}\n",
    "    0.7 & -0.7\\\\\n",
    "    0.7 & 0.7\n",
    "\\end{bmatrix}\n",
    "\\begin{bmatrix}\n",
    "    0.86 & -0.5\\\\\n",
    "    0.5 & 0.86\n",
    "\\end{bmatrix}\n",
    "$$\n",
    "\n",
    "2. Para cada matriz, encontre uma outra matriz que retorna os pontos transformados à sua posição original (isto é, a transformação inversa)."
   ]
  },
  {
   "cell_type": "markdown",
   "metadata": {},
   "source": [
    "# Exercício 11\n",
    "**Objetivo: relacionar transformações geométricas com o determinante das matrizes**\n",
    "\n",
    "1. Transforme a núvem de pontos anterior com a matriz $A$ abaixo. Use os seguintes valores para $D$: 1, 1.5, 2, 0. Para cada valor de $D$ na matriz, calcule o determinante da matriz e a área da núvem de pontos resultante.\n",
    "$$\n",
    "A = \n",
    "\\begin{bmatrix}\n",
    "    1 & 0\\\\\n",
    "    0 & D\n",
    "\\end{bmatrix}\n",
    "$$\n",
    "\n",
    "2. Reflita: o que significa o determinante em relação à transformação da área da núvem de pontos?\n",
    "3. Reflita: por que o determinante $0$ implica necessariamente em uma matriz não ser inversível?"
   ]
  },
  {
   "cell_type": "markdown",
   "metadata": {},
   "source": [
    "# Exercício 12\n",
    "**Objetivo: aplicar transformadas compostas**\n",
    "\n",
    "Podemos aplicar transformadas em sequência. Por exemplo, a figura abaixo pode ser obtida primeiro aplicando uma contração/expansão nos eixos $x$ e $y$, e depois disso uma rotação:\n",
    "\n",
    "<img src=\"transformada_composta.png\" width=300>\n",
    "\n",
    "1. Reproduza a imagem acima usando nossa núvem de pontos. Se precisar, use as matrizes de rotação que estão nos exercícios anteriores.\n",
    "2. Encontre uma matriz que realiza, simultaneamente, as duas transformações acima. Como é o procedimento para encontrá-la?\n",
    "3. Seria possível termos matrizes que realizam 3 ou mais etapas de transformações simultaneamente?"
   ]
  },
  {
   "cell_type": "code",
   "execution_count": 14,
   "metadata": {},
   "outputs": [],
   "source": [
    "# Faça seu código aqui"
   ]
  },
  {
   "cell_type": "code",
   "execution_count": null,
   "metadata": {},
   "outputs": [],
   "source": []
  },
  {
   "cell_type": "markdown",
   "metadata": {},
   "source": [
    "# Etapa 3"
   ]
  },
  {
   "cell_type": "markdown",
   "metadata": {},
   "source": [
    "# Exercício 13\n",
    "**Objetivo: aplicar uma translação em pontos**\n",
    "\n",
    "A operação de translação consiste em mover pontos somando algum valor neles. Por exemplo, podemos fazer uma translação somando um vetor a outro, isto é:\n",
    "\n",
    "$$\n",
    "y = x + \\Delta x\n",
    "$$"
   ]
  },
  {
   "cell_type": "code",
   "execution_count": null,
   "metadata": {},
   "outputs": [],
   "source": [
    "x = np.random.uniform(-0.5, 0.5, size=(2, 600))\n",
    "delta_x = np.array([ [1], [1] ])\n",
    "y = x + delta_x\n",
    "plt.figure()\n",
    "plt.scatter(x[0,:], x[1,:], s=1, c='r')\n",
    "plt.scatter(y[0,:], y[1,:], s=1, c='b')\n",
    "plt.xlim([-2, 2])\n",
    "plt.ylim([-2, 2])\n",
    "plt.grid()\n",
    "plt.show()"
   ]
  },
  {
   "cell_type": "markdown",
   "metadata": {},
   "source": [
    "1. Altere o código abaixo para encontrar uma compressão no eixo X seguida de uma rotação, seguida por fim de uma translação. Use, para isso, as matrizes $A$ e $B$ que já estão definidas no código. Crie novas matrizes se precisar. O resultado deve ser parecido com:\n",
    "<img src=\"translacao_com_rotacao.png\" width=300>\n",
    "\n",
    "2. Com essa formulação, é possível criar uma única matriz que realiza essas três transformações simultaneamente?"
   ]
  },
  {
   "cell_type": "code",
   "execution_count": null,
   "metadata": {},
   "outputs": [],
   "source": [
    "# Comece com esse código inicial!\n",
    "x = np.random.uniform(-0.5, 0.5, size=(2, 600))\n",
    "A = np.array( [[0.5, 0], [0, 1]]) # Compressao\n",
    "B = np.array( [[0.7, -0.7], [0.7, 0.7]]) # Rotacao\n",
    "\n",
    "# Altere daqui para baixo\n",
    "# -----------------\n",
    "y = x\n",
    "# -----------------\n",
    "# Altere daqui para cima\n",
    "\n",
    "plt.figure()\n",
    "plt.scatter(x[0,:], x[1,:], s=1, c='r')\n",
    "plt.scatter(y[0,:], y[1,:], s=1, c='b')\n",
    "plt.xlim([-2, 2])\n",
    "plt.ylim([-2, 2])\n",
    "plt.grid()\n",
    "plt.show()"
   ]
  },
  {
   "cell_type": "markdown",
   "metadata": {},
   "source": [
    "# Exercício 14\n",
    "**Objetivo: aplicar uma translação usando multiplicação matricial**\n",
    "\n",
    "Antes de prosseguir com essa exposição, vamos refletir sobre o que significa uma multiplicação matricial. Neste exemplo:\n",
    "\n",
    "$$\n",
    "\\begin{bmatrix}\n",
    "    a & b\\\\\n",
    "    c & d\n",
    "\\end{bmatrix}\n",
    "\\begin{bmatrix}\n",
    "    x \\\\\n",
    "    y\n",
    "\\end{bmatrix}\n",
    "=\n",
    "\\begin{bmatrix}\n",
    "    p \\\\\n",
    "    q\n",
    "\\end{bmatrix}\n",
    "$$\n",
    "\n",
    "devemos lembrar que as componentes $p$ e $q$ são calculadas por:\n",
    "\n",
    "$$\n",
    "\\begin{cases}\n",
    "\\begin{aligned}\n",
    "  p &= ax + by\\\\\n",
    "  q &= cx + dy\n",
    "\\end{aligned}\n",
    "\\end{cases}\n",
    "$$\n",
    "\n",
    "Como já vimos, essa operação funciona para a rotação, expansão/compressão e cisalhamento.\n",
    "\n",
    "Porém, se fizermos uma rotação seguida de uma translação, a operação que fazemos é:\n",
    "$$\n",
    "\\begin{bmatrix}\n",
    "    a & b\\\\\n",
    "    c & d\n",
    "\\end{bmatrix}\n",
    "\\begin{bmatrix}\n",
    "    x \\\\\n",
    "    y\n",
    "\\end{bmatrix}\n",
    "+\n",
    "\\begin{bmatrix}\n",
    "    \\Delta x \\\\\n",
    "    \\Delta y\n",
    "\\end{bmatrix}\n",
    "=\n",
    "\\begin{bmatrix}\n",
    "    p \\\\\n",
    "    q\n",
    "\\end{bmatrix}\n",
    "$$\n",
    "\n",
    "e isso pode ser escrito na forma de um sistema como:\n",
    "$$\n",
    "\\begin{cases}\n",
    "\\begin{aligned}\n",
    "  p &= ax + by + \\Delta x\\\\\n",
    "  q &= cx + dy + \\Delta y\n",
    "\\end{aligned}\n",
    "\\end{cases}\n",
    "$$\n",
    "\n",
    "Vamos usar a seguinte ideia: adicionaremos uma dimensão ao nosso vetor de posição. Essa nova dimensão sempre tem valor 1. Essa dimensão só serve para conseguirmos \"encaixar\" a translação no mesmo esquema matemático, e não é representada quando plotamos nossos vetores. Daí, podemos re-escrever esse sistema como:\n",
    "\n",
    "$$\n",
    "\\begin{bmatrix}\n",
    "    a & b & \\Delta x\\\\\n",
    "    c & d & \\Delta y \\\\\n",
    "    0 & 0 & 1 \\\\\n",
    "\\end{bmatrix}\n",
    "\\begin{bmatrix}\n",
    "    x \\\\\n",
    "    y \\\\\n",
    "    1\n",
    "\\end{bmatrix}\n",
    "=\n",
    "\\begin{bmatrix}\n",
    "    p \\\\\n",
    "    q \\\\\n",
    "    1\n",
    "\\end{bmatrix}\n",
    "$$\n",
    "\n",
    "A *vantagem* dessa abordagem é que agora podemos incorporar translações entre as nossas transformações implementadas por multiplicação matricial. A *desvantagem* é que agora nossas matrizes de transformação, que eram $2 \\times 2$, passam a ser $3 \\times 3$ e devem ser completadas da seguinte forma:\n",
    "\n",
    "$$\n",
    "\\begin{bmatrix}\n",
    "    a & b \\\\\n",
    "    c & d  \\\\\n",
    "\\end{bmatrix}\n",
    "\\Rightarrow\n",
    "\\begin{bmatrix}\n",
    "    a & b & 0\\\\\n",
    "    c & d & 0 \\\\\n",
    "    0 & 0 & 1 \\\\\n",
    "\\end{bmatrix}\n",
    "$$\n",
    "\n",
    "Com base nisso, analisando o código abaixo:\n",
    "\n",
    "1. A nuvem de pontos é criada com uma instrução diferente. Qual é essa diferença e por que ela acontece?\n",
    "2. Analise as transformações: $Ax$ e $Bx$. Qual matriz ($A$ ou $B$) é uma matriz de translação e qual é uma matriz de rotação?\n",
    "3. Analise as transformações: $ABx$ e $BAx$. Elas levam a resultados iguais? Justifique as diferenças!"
   ]
  },
  {
   "cell_type": "code",
   "execution_count": null,
   "metadata": {},
   "outputs": [],
   "source": [
    "import numpy as np\n",
    "\n",
    "T1 = np.array([[1, 0, -4], [0, 1, -5], [0, 0, 1]])\n",
    "T2 = np.array([[1, 0, 4], [0, 1, 5], [0, 0, 1]])\n",
    "ang = np.pi/6\n",
    "R = np.array([[np.cos(ang), -np.sin(ang), 0], [np.sin(ang), np.cos(ang), 0], [0, 0, 1]])\n",
    "A = T2 @ R @ T1\n",
    "print(A)"
   ]
  },
  {
   "cell_type": "code",
   "execution_count": null,
   "metadata": {},
   "outputs": [],
   "source": [
    "# Comece com esse código inicial!\n",
    "x = np.vstack( (np.random.uniform(-0.5, 0.5, size=(2, 600)), np.ones( (1,600) )))\n",
    "A = np.array( [[1, 0, 1], [0, 1, 1], [0, 0, 1]])\n",
    "B = np.array( [[0.7, -0.7, 0], [0.7, 0.7, 0], [0, 0, 1]])\n",
    "\n",
    "# Altere daqui para baixo\n",
    "# -----------------\n",
    "y =  A @ x\n",
    "# -----------------\n",
    "# Altere daqui para cima\n",
    "\n",
    "plt.figure()\n",
    "plt.scatter(x[0,:], x[1,:], s=1, c='r')\n",
    "plt.scatter(y[0,:], y[1,:], s=1, c='b')\n",
    "plt.xlim([-2, 2])\n",
    "plt.ylim([-2, 2])\n",
    "plt.grid()\n",
    "plt.show()"
   ]
  },
  {
   "cell_type": "markdown",
   "metadata": {},
   "source": [
    "# Exercício 15\n",
    "**Objetivo: usar transformações compostas**\n",
    "\n",
    "Encontre uma matriz única que realiza uma rotação, uma translação, um cisalhamento e uma expansão e/ou contração, na ordem que você escolher e com os parâmetros que preferir. Para isso, encontre uma matriz para a rotação, outra para a translação, outra para o cisalhamento e outra para a contração, e combine-as usando uma multiplicação. Demonstre sua transformação final usando uma núvem de pontos."
   ]
  },
  {
   "cell_type": "markdown",
   "metadata": {},
   "source": [
    "# Etapa 4\n",
    "\n",
    "Durante esta etapa, vamos aplicar transformações a imagens. Vamos partir de uma ideia que já tivemos e então passar algum tempo corrigindo os problemas que encontraremos pelo caminho.\n",
    "\n",
    "O plano é o seguinte:\n",
    "\n",
    "* Vamos partir de uma imagem, que é representada como uma matriz de pixels $X$\n",
    "* Cada pixel será referido como um vetor $v=(i,j)$, e todos os pixels juntos formam a matriz $V$.\n",
    "* Gostaríammos de aplicar uma transformação $A$ ao conjunto de pixels, de forma que o pixel $(i,j)$ passe a ocupar a posição $(i', j')$ na imagem transformada\n",
    "* A imagem transformada será referida como $Y$."
   ]
  },
  {
   "cell_type": "markdown",
   "metadata": {},
   "source": [
    "# Exercício 16\n",
    "**Objetivo: abrir e visualizar uma imagem**\n",
    "\n",
    "Veja o código abaixo. Ele demonstra como abrir uma matriz e como mostrá-la na tela usando `matplotlib`.\n",
    "\n",
    "1. O que os eixos da figura representam?\n",
    "2. Quais são as dimensões da variável `image` e o que elas representam?"
   ]
  },
  {
   "cell_type": "code",
   "execution_count": null,
   "metadata": {},
   "outputs": [],
   "source": [
    "image = mpimg.imread(\"rio_de_janeiro.jpg\")\n",
    "print(type(image))\n",
    "print(image.shape)\n",
    "plt.figure()\n",
    "plt.imshow(image)\n",
    "plt.show()"
   ]
  },
  {
   "cell_type": "markdown",
   "metadata": {},
   "source": [
    "# Exercício 17\n",
    "**Objetivo: acessar multiplos elementos de um array de numpy**\n",
    "\n",
    "Uma maneira de acessar vários elementos de um array de numpy simultaneamente é usar um outro array como indexador. Por exemplo:"
   ]
  },
  {
   "cell_type": "code",
   "execution_count": null,
   "metadata": {},
   "outputs": [],
   "source": [
    "y = np.array([1, 2, 3, 4, 5])\n",
    "idx = np.array([4, 3, 2])\n",
    "print(y[idx])"
   ]
  },
  {
   "cell_type": "code",
   "execution_count": null,
   "metadata": {},
   "outputs": [],
   "source": [
    "x = np.array([ [1, 2, 3], [4, 5, 6], [7, 8, 9]])\n",
    "y = np.zeros_like(x)\n",
    "origem_i = np.array([1, 0])\n",
    "origem_j = np.array([2, 1])\n",
    "destino_i = np.array([0, 1])\n",
    "destino_j = np.array([0, 0])\n",
    "y[destino_i, destino_j] = x[origem_i, origem_j]\n",
    "print(y)"
   ]
  },
  {
   "cell_type": "markdown",
   "metadata": {},
   "source": [
    "Podemos automatizar esse processo usando um *produto cartesiano*. Ele funciona criando vetores que têm todos os pares $i,j$ de elementos dos vetores que são recebidos como entrada:"
   ]
  },
  {
   "cell_type": "code",
   "execution_count": null,
   "metadata": {},
   "outputs": [],
   "source": [
    "def criar_indices(min_i, max_i, min_j, max_j):\n",
    "    import itertools\n",
    "    L = list(itertools.product(range(min_i, max_i), range(min_j, max_j)))\n",
    "    idx_i = np.array([e[0] for e in L])\n",
    "    idx_j = np.array([e[1] for e in L])\n",
    "    idx = np.vstack( (idx_i, idx_j) )\n",
    "    return idx\n",
    "\n",
    "a = np.array([ [1, 2, 3], [4, 5, 6], [7, 8, 9]])\n",
    "print(a, \"\\n\")\n",
    "X = criar_indices(0, 3, 0, 2)\n",
    "print(X, \"\\n\")\n",
    "b = np.zeros_like(a)\n",
    "b[X[0,:], X[1,:]] = a[X[0,:], X[1,:]]\n",
    "print(b)"
   ]
  },
  {
   "cell_type": "markdown",
   "metadata": {},
   "source": [
    "O código abaixo usa o meshgrid para recortar um pedaço da imagem recebida como entrada.\n",
    "\n",
    "1. Explique como o código funciona\n",
    "2. Altere o código para que o pedaço recortado inclua o cristo redentor"
   ]
  },
  {
   "cell_type": "code",
   "execution_count": null,
   "metadata": {},
   "outputs": [],
   "source": [
    "image = mpimg.imread(\"rio_de_janeiro.jpg\")\n",
    "image_ = np.zeros_like(image)\n",
    "\n",
    "X = criar_indices(0, 300, 0, 300)\n",
    "image_[X[0,:], X[1,:], :] = image[X[0,:], X[1,:], :]\n",
    "\n",
    "print(image_.shape)\n",
    "plt.figure()\n",
    "plt.imshow(image_)\n",
    "plt.show()"
   ]
  },
  {
   "cell_type": "markdown",
   "metadata": {},
   "source": [
    "# Exercício 18\n",
    "**Objetivo: transformar os pixels que buscamos acessar**\n",
    "\n",
    "Vamos agora implementar uma ideia. Temos uma matriz de índices $X$. Podemos entender esses índices como uma núvem de pontos. Daí então, aplicamos uma transformação sobre ela, modificando a posição dos pixels de destino, isto é:\n",
    "\n",
    "$$\n",
    "X_{\\text{destino}} = A X\n",
    "$$"
   ]
  },
  {
   "cell_type": "code",
   "execution_count": null,
   "metadata": {},
   "outputs": [],
   "source": [
    "X = criar_indices(0, 300, 0, 300)\n",
    "\n",
    "A = np.array([[0.5, 0], [0, 1.5]])\n",
    "Xd = A @ X\n",
    "\n",
    "plt.figure()\n",
    "plt.scatter(X[1,:], X[0,:], c='r', s=1, alpha=0.1)\n",
    "plt.scatter(Xd[1,:], Xd[0,:], c='b', s=1, alpha=0.1)\n",
    "plt.show()"
   ]
  },
  {
   "cell_type": "markdown",
   "metadata": {},
   "source": [
    "Essa transformação pode ser usada para mapear pixels na imagem de origem para pixels na imagem de destino! Veja, por exemplo: "
   ]
  },
  {
   "cell_type": "code",
   "execution_count": null,
   "metadata": {},
   "outputs": [],
   "source": [
    "image = mpimg.imread(\"rio_de_janeiro.jpg\")\n",
    "image_ = np.zeros_like(image)\n",
    "\n",
    "X = criar_indices(0, 300, 0, 300)\n",
    "\n",
    "A = np.array([[0.5, 0], [0, 1.5]])\n",
    "Xd = A @ X\n",
    "Xd = Xd.astype(int)\n",
    "\n",
    "image_[Xd[0,:], Xd[1,:], :] = image[X[0,:], X[1,:], :]\n",
    "\n",
    "print(image_.shape)\n",
    "plt.figure(figsize=(15,15))\n",
    "plt.subplot(1,2,1)\n",
    "plt.imshow(image)\n",
    "# Adiciona o retângulo indicando a área que foi recortada:\n",
    "plt.gca().add_patch(Rectangle((0,0),300,300,linewidth=5,edgecolor='r',facecolor='none'))\n",
    "\n",
    "plt.title('Origem')\n",
    "plt.subplot(1,2,2)\n",
    "plt.imshow(image_)\n",
    "plt.title('Destino')\n",
    "plt.show()"
   ]
  },
  {
   "cell_type": "markdown",
   "metadata": {},
   "source": [
    "Alterando o código acima, verifique o efeito das seguintes matrizes de transformação $A$:\n",
    "\n",
    "$$\n",
    "\\begin{bmatrix}\n",
    "1 & 0 \\\\\n",
    "0 & 1 \n",
    "\\end{bmatrix}\n",
    ",\n",
    "\\begin{bmatrix}\n",
    "0 & 1 \\\\\n",
    "1 & 0 \n",
    "\\end{bmatrix}\n",
    ",\n",
    "\\begin{bmatrix}\n",
    "1 & 0.2 \\\\\n",
    "0 & 1 \n",
    "\\end{bmatrix}\n",
    ",\n",
    "\\begin{bmatrix}\n",
    "1 & 0 \\\\\n",
    "0.2 & 1 \n",
    "\\end{bmatrix}\n",
    ",\n",
    "\\begin{bmatrix}\n",
    "1 & 0 \\\\\n",
    "0 & 3 \n",
    "\\end{bmatrix}\n",
    "$$"
   ]
  },
  {
   "cell_type": "markdown",
   "metadata": {},
   "source": [
    "# Exercício 19\n",
    "**Objetivo: resolver as dificuldades com pixels fora da imagem**\n",
    "\n",
    "Quando a matriz de transformação é:\n",
    "$$\n",
    "A = \n",
    "\\begin{bmatrix}\n",
    "-3 & 0 \\\\\n",
    "0 & 3 \n",
    "\\end{bmatrix}\n",
    "$$\n",
    "\n",
    "temos o problema de encontrar pixels de destino fora da imagem, gerando um erro.\n",
    "\n",
    "Uma solução para evitar esse erro é remover os pixels *out-of-bounds* usando um filtro. Por exemplo:"
   ]
  },
  {
   "cell_type": "code",
   "execution_count": null,
   "metadata": {},
   "outputs": [],
   "source": [
    "a = np.array([1, 2, 3, 4, 5])\n",
    "filtro = a > 3\n",
    "a = a[filtro]\n",
    "print(a)"
   ]
  },
  {
   "cell_type": "markdown",
   "metadata": {},
   "source": [
    "Usando um filtro, proponha uma modificação no código anterior para evitar os pixels *out-of-bounds*."
   ]
  },
  {
   "cell_type": "markdown",
   "metadata": {},
   "source": [
    "# Exercício 20\n",
    "**Objetivo: manipular a translação em imagens e fazer efeitos compostos**\n",
    "\n",
    "O código abaixo implementa uma operação de translação em nosso recorte. Modifique o código para que a translação seja de 50 pixels na horizontal e 50 pixels na vertical."
   ]
  },
  {
   "cell_type": "code",
   "execution_count": null,
   "metadata": {},
   "outputs": [],
   "source": [
    "image = mpimg.imread(\"rio_de_janeiro.jpg\")\n",
    "image_ = np.zeros_like(image)\n",
    "\n",
    "X = criar_indices(0, 300, 0, 300)\n",
    "X = np.vstack ( (X, np.ones( X.shape[1]) ) )\n",
    "\n",
    "A = np.array([[1, 0, 100], [0, 1, 90], [0, 0,1]])\n",
    "Xd = A @ X\n",
    "Xd = Xd.astype(int)\n",
    "X = X.astype(int)\n",
    "\n",
    "print(Xd.shape)\n",
    "\n",
    "image_[Xd[0,:], Xd[1,:], :] = image[X[0,:], X[1,:], :]\n",
    "\n",
    "print(image_.shape)\n",
    "plt.figure(figsize=(15,15))\n",
    "plt.subplot(1,2,1)\n",
    "plt.imshow(image)\n",
    "# Adiciona o retângulo indicando a área que foi recortada:\n",
    "plt.gca().add_patch(Rectangle((0,0),300,300,linewidth=5,edgecolor='r',facecolor='none'))\n",
    "\n",
    "plt.title('Origem')\n",
    "plt.subplot(1,2,2)\n",
    "plt.imshow(image_)\n",
    "plt.title('Destino')\n",
    "plt.show()"
   ]
  },
  {
   "cell_type": "markdown",
   "metadata": {},
   "source": [
    "# Exercício 21\n",
    "**Objetivo: aplicar transformações compostas**\n",
    "\n",
    "Uma matriz que implementa a rotação em 45 graus, na representação que temos até o momento, com uma dimensão adicional, pode ser:\n",
    "\n",
    "$$\n",
    "R = \n",
    "\\begin{bmatrix}\n",
    "    0.7 & -0.7 & 0\\\\\n",
    "    0.7 & 0.7 & 0 \\\\\n",
    "    0 & 0 & 1\n",
    "\\end{bmatrix}\n",
    "$$\n",
    "\n",
    "Porém, essa rotação acontece ao redor da origem. Se quisermos rotacionar nossa imagem ao redor de um ponto arbitrário, precisamos, nesta ordem:\n",
    "1. Transladar a imagem de tal forma que o ponto fique na origem\n",
    "2. Realizar a rotação\n",
    "3. Transladar a imagem de volta à sua posição original.\n",
    "\n",
    "(a) Tomando por base o código abaixo, implemente uma operação de rotação da imagem de destino ao redor do pixel $(150,150)$.\n",
    "\n",
    "(b) Encontre uma matriz que realiza a transformação do ítem (a) com uma única operação de multiplicação matricial."
   ]
  },
  {
   "cell_type": "code",
   "execution_count": null,
   "metadata": {},
   "outputs": [],
   "source": [
    "image = mpimg.imread(\"rio_de_janeiro.jpg\")\n",
    "image_ = np.zeros_like(image)\n",
    "\n",
    "X = criar_indices(0, 300, 0, 300)\n",
    "X = np.vstack ( (X, np.ones( X.shape[1]) ) )\n",
    "\n",
    "R = np.array([[0.7, -0.7, 0], [0.7, 0.7, 0], [0, 0,1]])\n",
    "\n",
    "Xd = R @ X\n",
    "Xd = Xd.astype(int)\n",
    "X = X.astype(int)\n",
    "\n",
    "# Troque este código pelo seu código de filtragem de pixels\n",
    "Xd[0,:] = np.clip(Xd[0,:], 0, image.shape[0])\n",
    "Xd[1,:] = np.clip(Xd[1,:], 0, image.shape[1])\n",
    "\n",
    "image_[Xd[0,:], Xd[1,:], :] = image[X[0,:], X[1,:], :]\n",
    "\n",
    "print(image_.shape)\n",
    "plt.figure(figsize=(15,15))\n",
    "plt.subplot(1,2,1)\n",
    "plt.imshow(image)\n",
    "# Adiciona o retângulo indicando a área que foi recortada:\n",
    "plt.gca().add_patch(Rectangle((0,0),300,300,linewidth=5,edgecolor='r',facecolor='none'))\n",
    "\n",
    "plt.title('Origem')\n",
    "plt.subplot(1,2,2)\n",
    "plt.imshow(image_)\n",
    "plt.title('Destino')\n",
    "plt.show()"
   ]
  },
  {
   "cell_type": "markdown",
   "metadata": {},
   "source": []
  },
  {
   "cell_type": "markdown",
   "metadata": {},
   "source": []
  }
 ],
 "metadata": {
  "kernelspec": {
   "display_name": "aulas",
   "language": "python",
   "name": "python3"
  },
  "language_info": {
   "codemirror_mode": {
    "name": "ipython",
    "version": 3
   },
   "file_extension": ".py",
   "mimetype": "text/x-python",
   "name": "python",
   "nbconvert_exporter": "python",
   "pygments_lexer": "ipython3",
   "version": "3.12.5"
  },
  "orig_nbformat": 4
 },
 "nbformat": 4,
 "nbformat_minor": 2
}
