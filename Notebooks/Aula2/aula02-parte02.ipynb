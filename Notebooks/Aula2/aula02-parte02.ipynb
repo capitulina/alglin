{
 "cells": [
  {
   "cell_type": "markdown",
   "id": "732ad7d5",
   "metadata": {},
   "source": [
    "# Aula 02 - Parte 02"
   ]
  },
  {
   "cell_type": "code",
   "execution_count": null,
   "id": "3fff70ee",
   "metadata": {},
   "outputs": [],
   "source": [
    "import numpy as np\n",
    "import matplotlib.pyplot as plt "
   ]
  },
  {
   "cell_type": "markdown",
   "id": "c4207676",
   "metadata": {},
   "source": [
    "# Exercício 1\n",
    "**Objetivo: entender o sistema presa-predador linear**\n",
    "\n",
    "Uma situação que acontece na natureza é que alguns seres vivos são predadores de outros. Por exemplo: o [carcará](https://pt.wikipedia.org/wiki/Carcar%C3%A1), uma ave de rapina sul-americana parecida com um falcão, se alimenta de sapos, e, por isso, dizemos que o carcará é um *predador* do sapo. Nessa relação, o carcará é o *predador* e o sapo é a *presa*. Nosso objetivo, neste exercício, é encontrar como a quantidade de carcarás e de sapos varia com o tempo.\n",
    "\n",
    "Na nossa simulação, o tempo é medido em meses (veja que $t$ será sempre um número inteiro!). Vamos usar a variável $c$ para representar o número de carcarás na população, e $s$ para representar o número de sapos. Então, $c_t$ é o número de carcarás no tempo $t$, e $s_t$ é o número de sapos no tempo $t$. Como cada carcará come muitos sapos, vamos convencionar que $c$ está em unidades e $s$ está em milhares.\n",
    "\n",
    "Vamos assumir alguns comportamentos \n",
    "\n",
    "* A população de carcarás naturalmente cai em 20% a cada mês\n",
    "* Para cada cinco mil sapos existentes naquele mês, um novo carcará nasce\n",
    "* A população de sapos naturalmente sobe em 10% porque eles se reproduzem\n",
    "* A cada mês, cada carcará consegue comer 100 sapos\n",
    "\n",
    "Isso significa que podemos escrever equações para calcular o número de carcarás e de sapos a cada mês, tomando por base a quantidade deles no mês anterior:\n",
    "\n",
    "$$ \n",
    "\\begin{cases}\n",
    "    \\begin{aligned}\n",
    "    c_t & = 0.8 c_{t-1} + 0.2 s_{t-1} \\\\\n",
    "    s_t & = - 0.1 c_{t-1} + 1.1 s_{t-1} \\\\\n",
    "    \\end{aligned}\n",
    "\\end{cases}\n",
    "$$\n",
    "\n",
    "1. Complete a função abaixo para simular a mudança populacional a cada mês por um período de 10 anos\n",
    "2. Simule a mudança populacional para as as condições iniciais: $(c_0=10, s_0=100)$, $(c_0=6, s_0=5)$, $(c_0=10.3, s_0=10.3)$, $(c_0=10, s_0=10)$. O que acontece em cada um desses casos?\n",
    "3. O que acontece com as populações se os gaviões começarem a comer mais e mais?\n",
    "4. O que acontece com as populações se os sapos passarem a se reproduzir menos?"
   ]
  },
  {
   "cell_type": "code",
   "execution_count": 3,
   "id": "aacd83cb",
   "metadata": {},
   "outputs": [
    {
     "name": "stdout",
     "output_type": "stream",
     "text": [
      "Cenário A: c0=10,   s0=100 -> após 120 meses: carcarás=190.00, sapos=190.00\n",
      "Cenário B: c0=6,    s0=5 -> após 120 meses: carcarás=4.00, sapos=4.00\n",
      "Cenário C: c0=10.3, s0=10.3 -> após 120 meses: carcarás=10.30, sapos=10.30\n",
      "Cenário D: c0=10,   s0=10 -> após 120 meses: carcarás=10.00, sapos=10.00\n",
      "Variação 3 (predação mais forte) -> após 120 meses: carcarás=0.29, sapos=-0.34\n",
      "Variação 4 (reprodução dos sapos menor) -> após 120 meses: carcarás=-0.01, sapos=-0.01\n"
     ]
    }
   ],
   "source": [
    "import numpy as np\n",
    "\n",
    "def executar_modelo(c0, s0, meses):\n",
    "    c_list = [c0]\n",
    "    s_list = [s0]\n",
    "    for _ in range(meses):\n",
    "        c_ant, s_ant = c_list[-1], s_list[-1]\n",
    "        c = 0.8*c_ant + 0.2*s_ant      # carcarás\n",
    "        s = -0.1*c_ant + 1.1*s_ant     # sapos\n",
    "        c_list.append(c); s_list.append(s)\n",
    "    return c_list, s_list\n",
    "\n",
    "# variação 3: \"gaviões comem mais\"\n",
    "def executar_modelo_predacao_forte(c0, s0, meses, a12=0.25, a21=-0.15):\n",
    "    c_list = [c0]; s_list = [s0]\n",
    "    for _ in range(meses):\n",
    "        c_ant, s_ant = c_list[-1], s_list[-1]\n",
    "        c = 0.8*c_ant + a12*s_ant    # ↑ efeito dos sapos sobre carcarás\n",
    "        s = a21*c_ant + 1.1*s_ant    # ↓ sapos por carcarás\n",
    "        c_list.append(c); s_list.append(s)\n",
    "    return c_list, s_list\n",
    "\n",
    "# variação 4: \"sapos se reproduzem menos\"\n",
    "def executar_modelo_repro_sapos_menor(c0, s0, meses, rs=1.03):\n",
    "    c_list = [c0]; s_list = [s0]\n",
    "    for _ in range(meses):\n",
    "        c_ant, s_ant = c_list[-1], s_list[-1]\n",
    "        c = 0.8*c_ant + 0.2*s_ant\n",
    "        s = -0.1*c_ant + rs*s_ant     # rs < 1.1\n",
    "        c_list.append(c); s_list.append(s)\n",
    "    return c_list, s_list\n",
    "\n",
    "# ===== Chamadas pedidas =====\n",
    "MESES = 120\n",
    "\n",
    "# 2) Simule para as condições iniciais pedidas\n",
    "for c0, s0, nome in [\n",
    "    (10,   100, \"Cenário A: c0=10,   s0=100\"),\n",
    "    (6,    5,   \"Cenário B: c0=6,    s0=5\"),\n",
    "    (10.3, 10.3,\"Cenário C: c0=10.3, s0=10.3\"),\n",
    "    (10,   10,  \"Cenário D: c0=10,   s0=10\"),\n",
    "]:\n",
    "    c, s = executar_modelo(c0, s0, MESES)\n",
    "    print(f\"{nome} -> após {MESES} meses: carcarás={c[-1]:.2f}, sapos={s[-1]:.2f}\")\n",
    "\n",
    "# 3) Gaviões (carcarás) comem mais\n",
    "c, s = executar_modelo_predacao_forte(10, 100, MESES, a12=0.25, a21=-0.15)\n",
    "print(f\"Variação 3 (predação mais forte) -> após {MESES} meses: carcarás={c[-1]:.2f}, sapos={s[-1]:.2f}\")\n",
    "\n",
    "# 4) Sapos se reproduzem menos\n",
    "c, s = executar_modelo_repro_sapos_menor(10, 100, MESES, rs=1.03)\n",
    "print(f\"Variação 4 (reprodução dos sapos menor) -> após {MESES} meses: carcarás={c[-1]:.2f}, sapos={s[-1]:.2f}\")\n",
    "\n",
    "\n",
    "# plt.figure(figsize=(5,3))\n",
    "# plt.plot(c_list, label='Carcarás')\n",
    "# plt.plot(s_list, label='Sapos')\n",
    "# plt.xlabel('Meses')\n",
    "# plt.ylabel('População')\n",
    "# plt.legend()\n",
    "# plt.show()"
   ]
  },
  {
   "cell_type": "markdown",
   "id": "3eee2924",
   "metadata": {},
   "source": [
    "# Exercício 2\n",
    "**Objetivo: escrever um sistema dinâmico linear em seu formato matricial**\n",
    "\n",
    "Uma maneira de escrever o sistema de equações que usamos no exercício anterior é usando a forma matricial:\n",
    "\n",
    "$$\n",
    "\\begin{bmatrix}\n",
    "    c_t \\\\\n",
    "    s_t \n",
    "\\end{bmatrix}\n",
    "=\n",
    "\\begin{bmatrix}\n",
    "    0.8 & 0.2\\\\\n",
    "    -0.1 & 1.1\n",
    "\\end{bmatrix} \n",
    "\\begin{bmatrix}\n",
    "    c_{t-1} \\\\\n",
    "    s_{t-1}\n",
    "\\end{bmatrix}\n",
    "$$\n",
    "\n",
    "1. Realize manualmente o cálculo acima e verifique que essa formulação matricial é equivalente ao sistema de equações\n",
    "2. Com essa formulação, o cálculo das populações no mês seguinte passa a ser uma multiplicação matricial. Reformule a função `executar_modelo` para que ela opere diretamente com matrizes e vetores. Teste sua nova função para confirmar que tem os mesmos resultados da versão anterior.\n",
    "\n"
   ]
  },
  {
   "cell_type": "code",
   "execution_count": 13,
   "id": "8fb146c4",
   "metadata": {},
   "outputs": [
    {
     "data": {
      "image/png": "[encoded data removed]",
      "text/plain": [
       "<Figure size 500x300 with 1 Axes>"
      ]
     },
     "metadata": {},
     "output_type": "display_data"
    }
   ],
   "source": [
    "\n",
    "def executar_modelo(c, s, meses=120):\n",
    "    # Faça sua função aqui, implementando as equações do sistema!\n",
    "    populacoes_mes_passado = np.array( [[c], [s]] )\n",
    "    A = np.array([ [0.8, 0.2], [-.1, 1.1]])\n",
    "    \n",
    "    c_list = [c]\n",
    "    s_list = [s]\n",
    "    for i in range(meses):\n",
    "        populacao_este_mes = populacoes_mes_passado\n",
    "        c_list.append(populacao_este_mes[0,0])\n",
    "        s_list.append(populacao_este_mes[1,0])\n",
    "        populacoes_mes_passado = populacao_este_mes\n",
    "        \n",
    "    return c_list, s_list\n",
    "\n",
    "\n",
    "c_list, s_list = executar_modelo(c=10, s=100, meses=120)\n",
    " \n",
    "\n",
    "plt.figure(figsize=(5,3))\n",
    "plt.plot(c_list, label='Carcarás')\n",
    "plt.plot(s_list, label='Sapos')\n",
    "plt.xlabel('Meses')\n",
    "plt.ylabel('População')\n",
    "plt.legend()\n",
    "plt.show()"
   ]
  },
  {
   "cell_type": "markdown",
   "id": "e036a6aa",
   "metadata": {},
   "source": [
    "# Exercício 3\n",
    "**Objetivo: entender o processo de transposição de matrizes**\n",
    "\n",
    "Você deve ter percebido que na etapa 1 desta aula usamos as linhas de uma matriz para representar cada um dos nossos elementos, ao passo que agora temos colunas representando esses mesmos elementos. Na verdade, podemos optar por qualquer uma das representações, e para isso usamos uma operação chamada \"transposição\". Na transposição, as linhas de uma matriz se tornam colunas e vice-versa, isto é, se uma matriz $X$ tem elementos $x[i,j]$, então a matriz transposta $X^T$ tem elementos $x^T[i,j] = x[j,i]$. Por exemplo:\n",
    "$$\n",
    "X =\n",
    "\\begin{bmatrix}\n",
    "    a & b & c\\\\\n",
    "    d & e & f\n",
    "\\end{bmatrix} \\rightarrow\n",
    "X^T =\n",
    "\\begin{bmatrix}\n",
    "    a & d\\\\\n",
    "    b & e\\\\\n",
    "    c & f\n",
    "\\end{bmatrix}\n",
    "$$\n",
    "\n",
    "É claro que a transposta da transposta de uma matriz é a própria matriz original:\n",
    "$$\n",
    "X^{T^T} = X\n",
    "$$\n",
    "\n",
    "A transposição de matrizes tem uma propriedade muito importante, que é a de possibilitar inverter a ordem das matrizes em uma multiplicação:\n",
    "$$\n",
    "(AB)^T = B^T A^T\n",
    "$$\n",
    "\n",
    "1. Em nossa simulação de carcarás e sapos, utilizamos a forma: $Y=AX$. Identifique as matrizes $Y$, $A$ e $X$.\n",
    "2. Na representação atual, os elementos de $Y$ são suas colunas. Podemos transpor os dois lados da equação e obter: $Y^T = (AX)^T$. Use as propriedades da transposição de matrizes para simplificar essa equação e permitir que $Y^T$ seja encontrado usando somente uma multiplicação matricial.\n",
    "3. Altere sua função `executar_modelo` para que ela passe a operar com a forma transposta de seu problema."
   ]
  },
  {
   "cell_type": "markdown",
   "id": "36614e91",
   "metadata": {},
   "source": []
  },
  {
   "cell_type": "markdown",
   "id": "0a9743a2",
   "metadata": {},
   "source": [
    "# Exercício 4\n",
    "**Objetivo: Entender o algoritmo PageRank como navegação aleatória e probabilidade**\n",
    "\n",
    "O buscador Google foi criado com base num algoritmo chamado PageRank. O PageRank tem o objetivo de identificar quais são as páginas web mais relevantes que se relacionam a uma determinada \"query\". A premissa do PageRank é que as páginas que são linkadas por mais páginas são mais relevantes, e que as páginas que recebem links de páginas relevantes também são mais relevantes. Uma maneira de modelar isso é usando a ideia de um \"surfista aleatório\": se uma pessoa clica aleatoriamente em links durante sua navegação na Internet, essa pessoa vai passar, com mais probabilidade, em sites relevantes. Daí, a ideia é que a relevância de uma página seja proporcional à probabilidade do surfista estar nessa página ao longo de sua navegação aleatória.\n",
    "\n",
    "Vamos partir de uma matriz $A$ que representa todas as páginas da web. Como estamos explicando esse conceito, vamos usar primeiro uma \"web fictícia\" com 4 páginas. O elemento $a_{i,j}$ representa a probabilidade de, clicando num link aleatório da página $j$, sair na página $i$. Isso significa que, se $a_{i,j}=0$, então não há link da página $j$ para a página $i$:"
   ]
  },
  {
   "cell_type": "code",
   "execution_count": 9,
   "id": "f2a373b5",
   "metadata": {},
   "outputs": [
    {
     "name": "stdout",
     "output_type": "stream",
     "text": [
      "[[0.         0.5        0.         0.        ]\n",
      " [0.33333333 0.         0.5        0.        ]\n",
      " [0.33333333 0.         0.         1.        ]\n",
      " [0.33333333 0.5        0.5        0.        ]]\n"
     ]
    }
   ],
   "source": [
    "# A[i,j] = probabilidade de chegar na página i vindo da página j\n",
    "import numpy as np\n",
    "A = np.array([[0, 1, 0, 0], [1, 0, 1, 0], [1, 0, 0, 1], [1, 1, 1, 0]])\n",
    "A = A / np.sum(A, axis=0)\n",
    "print(A)"
   ]
  },
  {
   "cell_type": "markdown",
   "id": "3226b52b",
   "metadata": {},
   "source": [
    "1. A matriz $A$ definida acima representa quatro páginas web. Há um link da página $0$ para a página $2$? Há um link da página $2$ para a página $0$?\n",
    "1. Abaixo, há um código que simula o surfista aleatório. Analise criticamente o código e decida se ele, de fato, está simulando um surfista aleatório. Se for o caso, corrija o que estiver errado.\n",
    "2. O código dá resultados significativamente diferentes quando o surfista é inicializado em uma outra página que não a $0$?"
   ]
  },
  {
   "cell_type": "code",
   "execution_count": 10,
   "id": "3a423f2a",
   "metadata": {},
   "outputs": [
    {
     "name": "stdout",
     "output_type": "stream",
     "text": [
      "[0.10641 0.21372 0.35807 0.3218 ]\n",
      "[0.10743 0.21416 0.35706 0.32135]\n",
      "[0.10744 0.21487 0.35695 0.32074]\n"
     ]
    }
   ],
   "source": [
    "def randomsurfer_pagerank(A, i_init=0):\n",
    "    hops = np.zeros(A.shape[0]) # hops[i] = quantas vezes o surfista caiu na página p_i'\n",
    "    nodes = range(A.shape[0]) # Uma lista com os números das páginas\n",
    "    i_ = i_init # Em que página o surfista está?\n",
    "    for _ in range(100000): # Quantos saltos o surfista vai fazer?\n",
    "        hops[i_] += 1 # Conto uma passagem na página que estou\n",
    "        possibilities = A[:,i_] # Probabilidades para links que saem da página i_\n",
    "        next_i = np.random.choice(nodes, p=possibilities) # Escolho a próxima página\n",
    "        i_ = next_i # Navego para próxima página\n",
    "    \n",
    "    hops = hops / np.sum(hops) # Transformo contagens em probabilidades\n",
    "    return hops\n",
    "\n",
    "print(randomsurfer_pagerank(A, 0))\n",
    "print(randomsurfer_pagerank(A, 1))\n",
    "print(randomsurfer_pagerank(A, 2))"
   ]
  },
  {
   "cell_type": "markdown",
   "id": "448174ef",
   "metadata": {},
   "source": [
    "# Exercício 5\n",
    "**Objetivo: Modelar as probabilidades de transição do PageRank em forma matricial**\n",
    "\n",
    "Podemos interpretar os elementos da matriz $A$ como a probabilidade de ir para a página $i$ sabendo que estamos na página $j$, isto é:\n",
    "$$\n",
    "a_{i,j} = P(s_t = i | s_{t-1} = j)\n",
    "$$\n",
    "\n",
    "Vamos representar a nossa localização na web através da matriz-coluna $X$. Essa matriz será inicializada com zeros, exceto na posição $0$, que será igual a $1$, significando que estamos na página $0$, isto é:\n",
    "$$\n",
    "X =\n",
    "\\begin{bmatrix}\n",
    "    1 \\\\\n",
    "    0 \\\\\n",
    "    0 \\\\\n",
    "    0\n",
    "\\end{bmatrix}\n",
    "$$\n",
    "\n",
    "1. Calcule (manualmente) a matriz $Y = AX$. \n",
    "2. Qual é a soma dos elementos de $Y$?\n",
    "3. O que cada elemento da matriz $Y$ significa em termos das probabilidades ligadas ao nosso problema?"
   ]
  },
  {
   "cell_type": "markdown",
   "id": "1e75bab2",
   "metadata": {},
   "source": [
    "# Exercício 6\n",
    "**Objetivo: Implementar o algoritmo PageRank com multiplicações matriciais**\n",
    "\n",
    "Nesta seção, faremos uma dedução matemática. Estou acreditando que ela é importante porque esse resultado faz uma ponte entre as probabilidades condicionais e a multiplicação matricial que não está em nenhum livro didático, mas que é usada constantemente em textos de *machine learning*.\n",
    "\n",
    "Vamos partir do seguinte resultado, ligado à soma de interseções, assumindo que os eventos $C_i$ são disjuntos e a união de todos os eventos $C_i$ cobre $A$ completamente:\n",
    "\n",
    "$$\n",
    "P(A) = P(A \\cap C_1) + P(A \\cap C_2) + .... + P(A \\cap C_N),\n",
    "$$\n",
    "\n",
    "Usando a definição de probabilidades condicionais, temos:\n",
    "\n",
    "$$\n",
    "P(A) = P(A|C_1)P(C_1) + P(A|C_2)P(C_2) + .... + P(A|C_N)P(C_N),\n",
    "$$\n",
    "\n",
    "que significa que a probabilidade de um evento é igual à soma de todas as probabilidades desse evento ligadas a diferentes condições, poderadas pelas probabilidades das condições.\n",
    "\n",
    "Pelo resultado da soma de probabilidades condicionais, podemos calcular a probabilidade de chegar à página $0$, isto é, $P(s_t = 0)$, somando as probabilidades de chegar na página $0$ à partir de cada uma das páginas $j$ e ponderando pelas probabilidades de estar na página $j$ em primeiro lugar, isto é:\n",
    "\n",
    "$$\n",
    "P(s_t = 0) = P(s_t = 0 | s_{t-1}=0) P(s_{t-1}=0) + P(s_t = 0 | s_{t-1}=1) P(s_{t-1}=1) + ... + P(s_t = 0 | s_{t-1}=N-1) P(s_{t-1}=N-1)\n",
    "$$\n",
    "\n",
    "Podemos generalizar esse resultado para todas as páginas $i$:\n",
    "\n",
    "$$\n",
    "P(s_t = i) = P(s_t = i | s_{t-1}=0) P(s_{t-1}=0) + P(s_t = i | s_{t-1}=1) P(s_{t-1}=1) + ... + P(s_t = i | s_{t-1}=N-1) P(s_{t-1}=N-1)\n",
    "$$\n",
    "\n",
    "Essa expressão pode ser reduzida para uma somatória:\n",
    "\n",
    "$$\n",
    "P(s_t = i) = \\sum_{j=0}^ {N-1}  P(s_t = i | s_{t-1}=j) P(s_{t-1}=j).\n",
    "$$\n",
    "\n",
    "Porém, construímos nossa matriz $A$ de forma que $a[i,j]=P(s_t = i | s_{t-1}=j)$, e nossa matriz-coluna $X$ é tal que $x[j,0] = P(s_{t-1}=j)$, então temos:\n",
    "\n",
    "$$\n",
    "P(s_t = i) =  \\sum_{j=0}^ {N-1} a[i,j] x[j, 0].\n",
    "$$\n",
    "\n",
    "Se representarmos nossas probabilidades $P(s_t=i)$ numa matriz $Y$, passamos a ter:\n",
    "$$\n",
    "\\boldsymbol{Y}  =   \\sum_{j=0}^ {N-1} a[i,j] x[j, 0].\n",
    "$$\n",
    "\n",
    "A expressão à direita dessa equação é uma multiplicação matricial:\n",
    "$$\n",
    "\\boldsymbol{Y}  =  \\boldsymbol{A} \\boldsymbol{X}.\n",
    "$$\n",
    "\n",
    "E, portanto, \"dar um passo\" em nosso navegador probabilístico significa multiplicar nossa matriz de probabilidades atual pela matriz $A$.\n",
    "\n",
    "Tendo em vista esta dedução,\n",
    "1. Implemente o algoritmo PageRank usando multiplicações matriciais.\n",
    "2. Compare o resultado com aquele encontrado usando o navegador aleatório.\n"
   ]
  },
  {
   "cell_type": "code",
   "execution_count": 11,
   "id": "3a5f5c84",
   "metadata": {},
   "outputs": [],
   "source": [
    "# Escreva sua solução aqui\n",
    "import numpy as np \n",
    "\n"
   ]
  },
  {
   "cell_type": "code",
   "execution_count": null,
   "id": "f1a16efc",
   "metadata": {},
   "outputs": [],
   "source": []
  }
 ],
 "metadata": {
  "kernelspec": {
   "display_name": "alglin",
   "language": "python",
   "name": "python3"
  },
  "language_info": {
   "codemirror_mode": {
    "name": "ipython",
    "version": 3
   },
   "file_extension": ".py",
   "mimetype": "text/x-python",
   "name": "python",
   "nbconvert_exporter": "python",
   "pygments_lexer": "ipython3",
   "version": "3.13.2"
  }
 },
 "nbformat": 4,
 "nbformat_minor": 5
}
