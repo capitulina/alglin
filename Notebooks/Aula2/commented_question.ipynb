{
 "cells": [
  {
   "cell_type": "code",
   "execution_count": 12,
   "metadata": {},
   "outputs": [
    {
     "name": "stdout",
     "output_type": "stream",
     "text": [
      "[(0, 2), (3, 0), (2, 0), (3, 2)]\n",
      "(4, 3)\n",
      "(0, 2)\n",
      "(3, 0)\n",
      "(2, 0)\n",
      "(3, 2)\n"
     ]
    },
    {
     "data": {
      "text/plain": [
       "'\\\\begin{bmatrix}\\n1 & 5 & x \\\\\\\\\\n3 & 6 & -2 \\\\\\\\\\nz & -7 & 5 \\\\\\\\\\ny & 4 & w \\\\\\\\\\n\\\\end{bmatrix}\\n'"
      ]
     },
     "execution_count": 12,
     "metadata": {},
     "output_type": "execute_result"
    }
   ],
   "source": [
    "import numpy as np \n",
    "\n",
    "\n",
    "def gerar_matrizes():\n",
    "    # Gerando as matrizes\n",
    "    # Matrizes: n x m, m x p\n",
    "    n = np.random.randint(3, 6)\n",
    "    m = n\n",
    "    while m==n:\n",
    "        m = np.random.randint(3, 6)\n",
    "\n",
    "    p = m\n",
    "    while p==m:\n",
    "        p = np.random.randint(3, 6)\n",
    "\n",
    "    A = np.random.randint(-9, 9, (n, m))\n",
    "    B = np.random.randint(-9, 9, (m, p))\n",
    "\n",
    "    # Gerando as variaveis\n",
    "    vars = ['x', 'y', 'z', 'w', 'v']\n",
    "    n_vars = 4\n",
    "\n",
    "    var_positions = []\n",
    "    var_values = []\n",
    "    for i in range(n_vars):\n",
    "        random_line = np.random.randint(0, B.shape[0])\n",
    "        random_col = np.random.randint(0, B.shape[1])\n",
    "        while (random_line, random_col) in var_positions:\n",
    "            random_line = np.random.randint(0, B.shape[0])\n",
    "            random_col = np.random.randint(0, B.shape[1])\n",
    "        var_positions.append( (random_line, random_col) )\n",
    "        var_values.append( B[random_line, random_col] )\n",
    "    print(var_positions)\n",
    "\n",
    "    C = A @ B\n",
    "\n",
    "    B_str = B.astype(str)\n",
    "    print(B.shape)\n",
    "    for i in range(n_vars):\n",
    "        print(var_positions[i])\n",
    "        B_str[var_positions[i]] = vars[i]\n",
    "\n",
    "    return A, B, C, B_str, var_values\n",
    "\n",
    "def render_matrix_as_latex(A):\n",
    "    latex_str = '\\\\begin{bmatrix}\\n'\n",
    "    for i in range(A.shape[0]):\n",
    "        for j in range(A.shape[1]):\n",
    "            latex_str += str(A[i, j])\n",
    "            if j < A.shape[1]-1:\n",
    "                latex_str += ' & '\n",
    "        latex_str += ' \\\\\\\\\\n'\n",
    "    latex_str += '\\\\end{bmatrix}\\n'\n",
    "    return latex_str\n",
    "\n",
    "A, B, C, B_str, var_values = gerar_matrizes()\n",
    "render_matrix_as_latex(B_str)"
   ]
  },
  {
   "cell_type": "code",
   "execution_count": null,
   "metadata": {},
   "outputs": [],
   "source": []
  }
 ],
 "metadata": {
  "kernelspec": {
   "display_name": "alglin",
   "language": "python",
   "name": "python3"
  },
  "language_info": {
   "codemirror_mode": {
    "name": "ipython",
    "version": 3
   },
   "file_extension": ".py",
   "mimetype": "text/x-python",
   "name": "python",
   "nbconvert_exporter": "python",
   "pygments_lexer": "ipython3",
   "version": "3.11.8"
  }
 },
 "nbformat": 4,
 "nbformat_minor": 2
}
