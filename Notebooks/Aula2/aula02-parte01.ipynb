{
 "cells": [
  {
   "cell_type": "markdown",
   "id": "4a9415ce",
   "metadata": {},
   "source": [
    "# Modelando, visualizando e resolvendo sistemas lineares\n",
    "\n",
    "Este capítulo está ligado ao seguintes objetivos didáticos do curos:\n",
    "1. Resolver problemas de geometria espacial envolvendo conceitos de espaços vetoriais\n",
    "1. Avaliar e resolver sistemas de equações lineares\n",
    "\n",
    "Referência bibliográfica: [Jim Hefferon - Linear Algebra - 4th Edition](https://hefferon.net/linearalgebra/) - Chap. One, I, Chap. Three, III-IV"
   ]
  },
  {
   "cell_type": "code",
   "execution_count": 26,
   "id": "2318c8e7",
   "metadata": {},
   "outputs": [],
   "source": [
    "import numpy as np\n",
    "import matplotlib.pyplot as plt"
   ]
  },
  {
   "cell_type": "markdown",
   "id": "4b7c0862",
   "metadata": {},
   "source": [
    "# Exercício 1\n",
    "**Objetivo: Entender o problema de estimar custos de produção**\n",
    "\n",
    "Uma doceria faz brigadeiros. Para fazer uma fornada com 20 brigadeiros, é preciso usar 40g de manteiga, uma lata (400g) de leite condensado e 20g de chocolate em pó.\n",
    "\n",
    "O custo de cada ingrediente está na tabela:\n",
    "\n",
    "Ingrediente | Custo por embalagem \n",
    "--- | ---\n",
    "Leite condensado | R\\$10,00 (lata de 400g) \n",
    "Manteiga | R\\$15,00 (pote com 200g)\n",
    "Chocolate em pó |R\\$18,00 (caixa com 200g)\n",
    "\n",
    "Para calcular o custo de uma fornada de brigadeiros, precisamos multiplicar o custo de cada embalagem pela quantidade dele que foi utilizada, e então somar os resultados.\n",
    "\n",
    "Complete o código abaixo para estimar quanto custa fazer uma fornada de 20 brigadeiros."
   ]
  },
  {
   "cell_type": "code",
   "execution_count": 13,
   "id": "17fd4b90",
   "metadata": {},
   "outputs": [
    {
     "name": "stdout",
     "output_type": "stream",
     "text": [
      "14.8\n"
     ]
    }
   ],
   "source": [
    "# Resolva o exercício aqui\n",
    "custo_por_ingrediente = [10, 15, 18] # O que esses números representam?\n",
    "quantidades = [1, 1/5, 1/10]\n",
    "custo_total = 0\n",
    "for n in range(len(custo_por_ingrediente)): # O que precisa ser feito para cada ingrediente?\n",
    "    custo_total += custo_por_ingrediente[n] * quantidades[n]\n",
    "\n",
    "    \n",
    "print(custo_total)"
   ]
  },
  {
   "cell_type": "markdown",
   "id": "f35dcf14",
   "metadata": {},
   "source": [
    "# Exercício 2\n",
    "**Objetivo: Usar soma e multiplicação ponto a ponto de vetores**\n",
    "\n",
    "No primeiro exercício, fizemos um laço explícito para multiplicar duas listas e somar os resultados ponto a ponto. A equação que implementamos foi:\n",
    "\n",
    "$$\n",
    "C = \\sum_{n=0}^{N-1} I[n] Q[n],\n",
    "$$\n",
    "\n",
    "onde $\\boldsymbol{I}$ guarda os ingredientes e $\\boldsymbol{Q}$ guarda as quantidades utilizadas.\n",
    "\n",
    "Se usarmos vetores ao invés de listas, podemos usar a seguinte operação:\n",
    "$$\n",
    "C =  \\sum_{n=0}^{N-1} I \\odot Q.\n",
    "$$\n",
    "\n",
    "O operador $\\odot$ significa \"produto ponto-a-ponto\" (*pointwise multiplication*), e é definido como:\n",
    "$$\n",
    "(I \\odot Q)[n] = I[n] Q[n]\n",
    "$$\n",
    "\n",
    "Quando multiplicamos dois vetores de numpy, realizamos a operação $\\odot$ entre eles. Veja, por exemplo:"
   ]
  },
  {
   "cell_type": "code",
   "execution_count": 14,
   "id": "8bad4410",
   "metadata": {},
   "outputs": [
    {
     "name": "stdout",
     "output_type": "stream",
     "text": [
      "[3 4 7]\n"
     ]
    }
   ],
   "source": [
    "a = np.array([1, 2, 7])\n",
    "b = np.array([3, 2, 1])\n",
    "c = a * b\n",
    "print(c)"
   ]
  },
  {
   "cell_type": "markdown",
   "id": "f008e32b",
   "metadata": {},
   "source": [
    "Também, podemos usar a operação `np.sum(x)` para encontrar a soma de todos os elementos do array `x`.\n",
    "\n",
    "Com base nisso, re-escreva abaixo o código do exercício 1 usando os operadores de multiplicação ponto-a-ponto e a função `np.sum()`, de forma que não seja necessário usar laços em seu código."
   ]
  },
  {
   "cell_type": "code",
   "execution_count": 15,
   "id": "3d85f84e",
   "metadata": {},
   "outputs": [
    {
     "name": "stdout",
     "output_type": "stream",
     "text": [
      "14.8\n"
     ]
    }
   ],
   "source": [
    "custo_por_ingrediente = np.array([10, 15, 18]) # O que esses números representam?\n",
    "quantidades = np.array([1, 1/5, 1/10])\n",
    "custo_total = np.sum(custo_por_ingrediente * quantidades)\n",
    "print(custo_total)\n",
    "\n"
   ]
  },
  {
   "cell_type": "markdown",
   "id": "6f826d14",
   "metadata": {},
   "source": [
    "# Exercício 3\n",
    "**Objetivo: modelar a soma de produtos como um produto interno**\n",
    "\n",
    "A operação $\\sum_n x[n]y[n]$, que fizemos nos exercícios 1 e 2, pode ser interpretada como uma soma dos elementos de $\\boldsymbol{x}$ ponderada pelos elementos correspondentes em $\\boldsymbol{y}$. Essa operação é muito comum, e é chamada de \"produto interno\" (*inner product*). O produto interno é definido como:\n",
    "\n",
    "$$\n",
    "<x, y> = \\sum_n x[n]y[n] = \\sum_n x \\odot y\n",
    "$$\n",
    "\n",
    "Em Numpy, a função que calcula o produto interno de dois vetores é `np.inner(x, y)`, então poderíamos resolver os exercícios 1 e 2 usando:"
   ]
  },
  {
   "cell_type": "code",
   "execution_count": 10,
   "id": "5afdbed3",
   "metadata": {},
   "outputs": [
    {
     "name": "stdout",
     "output_type": "stream",
     "text": [
      "14.8\n"
     ]
    }
   ],
   "source": [
    "custo_total = np.inner(custo_por_ingrediente, quantidades)\n",
    "print(custo_total)"
   ]
  },
  {
   "cell_type": "markdown",
   "id": "8fd228d9",
   "metadata": {},
   "source": [
    "Vamos agora expandir nossa doceria. Além de brigadeiros, vamos adicionar *ganache* no cardápio.\n",
    "\n",
    "Para fazer um pote de ganache, é preciso usar 40g de manteiga, 40g de chocolate e 200mL de creme de leite. Uma caixinha de 200mL de creme de leite custa R\\$2,80. Nossa tabela de ingredientes então fica:\n",
    "\n",
    "Ingrediente | Custo por embalagem \n",
    "--- | ---\n",
    "Leite condensado | R\\$10,00 (lata de 400g) \n",
    "Manteiga | R\\$15,00 (pote com 200g)\n",
    "Chocolate em pó |R\\$18,00 (caixa com 200g)\n",
    "Creme de leite | R\\$2,80 (caixa com 200mL)\n",
    "\n",
    "Em nosso modelo, gostaríamos de usar um único vetor `custo_por_ingrediente` tanto para o brigadeiro quanto para o ganache, e passamos a ter um vetor `quantidades_brigadeiro` para o brigadeiro e um vetor `quantidades_ganache` para o ganache.\n",
    "\n",
    "Complete a solução abaixo para calcular o custo de cada uma das fornadas de doce.\n",
    "\n",
    "1. Complete a definição dos vetores `quantidades_brigadeiro` e `quantidades_ganache`. Como podemos fazer para representar o fato de que um brigadeiro não usa creme de leite e que um ganache não usa manteiga? colocar o valor 0 onde representa a quantidade deles.\n",
    "2. Como a lista de vetores `custos_totais` é calculada? Qual é o conteúdo dela? fazendo a multiplicacao de cada custo com sua respectiva quantidade\n",
    "3. Adicione o \"doce de leite\" ao cardápio. A receita dele é muito simples: deixamos uma lata de leite condensado ferver na panela de pressão por 40 minutos. Lembre-se de fazer essa adição sem alterar o código abaixo da linha marcada.\n",
    "4. Adicione o \"doce de coco\" ao cardápio. Uma fornada de 20 doces usa 200g de leite condensado e 250g de coco ralado. O pacote de 1kg de coco ralado custa R$35,00.  Lembre-se de fazer essa adição sem alterar o código abaixo da linha marcada."
   ]
  },
  {
   "cell_type": "code",
   "execution_count": 23,
   "id": "d008e5b7",
   "metadata": {},
   "outputs": [
    {
     "name": "stdout",
     "output_type": "stream",
     "text": [
      "[np.float64(14.8), np.float64(9.399999999999999), np.float64(10.0), np.float64(10.0)]\n"
     ]
    }
   ],
   "source": [
    "custo_por_ingrediente = np.array([10, 15, 18, 2.8, 35])\n",
    "\n",
    "quantidades_brigadeiro = np.array([1, 0.2, 0.1, 0, 0]) # Complete esse\n",
    "quantidades_ganache = np.array([0, 0.2, 0.2, 1, 0]) # Complete esse\n",
    "quantidades_doce_de_leite = np.array([1, 0, 0, 0, 0])\n",
    "quantidades_doce_de_coco = np.array([1/2, 0, 0, 0, 1/4])\n",
    "\n",
    "quantidades = [quantidades_brigadeiro, quantidades_ganache, quantidades_doce_de_leite, quantidades_doce_de_leite]\n",
    "\n",
    "# Não modifique nada abaixo desta linha\n",
    "custos_totais = []\n",
    "for idx, q in enumerate(quantidades):\n",
    "    custos_totais.append (np.inner(custo_por_ingrediente, q))\n",
    "print(custos_totais)"
   ]
  },
  {
   "cell_type": "markdown",
   "id": "58555e81",
   "metadata": {},
   "source": [
    "# Exercício 4\n",
    "**Objetivo: Usar matrizes ao invés de listas de vetores**\n",
    "\n",
    "No exercício 3, usamos um vetor para representar cada uma das quantidades de ingredientes. Ao invés de fazer isso, podemos usar matrizes, que são essencialmente \"vetores de vetores\".\n",
    "\n",
    "Assim como tínhamos usado uma lista para inicializar os elementos de um vetor, vamos usar listas de listas para inicializar os elementos de uma matriz:"
   ]
  },
  {
   "cell_type": "code",
   "execution_count": 18,
   "id": "8ccefb55",
   "metadata": {},
   "outputs": [
    {
     "name": "stdout",
     "output_type": "stream",
     "text": [
      "[[1 2 3]\n",
      " [4 5 6]]\n",
      "2\n",
      "(2, 3)\n"
     ]
    }
   ],
   "source": [
    "a = np.array([ [1, 2, 3], [4, 5, 6] ])\n",
    "print(a)\n",
    "print(a[0,1])\n",
    "print(a.shape)"
   ]
  },
  {
   "cell_type": "markdown",
   "id": "f2047644",
   "metadata": {},
   "source": [
    "Veja que todas as listas passadas têm que ter o mesmo tamanho, o que permite gerar essa estrutura retangular com linhas e colunas.\n",
    "\n",
    "Vamos praticar o uso de matrizes.\n",
    "\n",
    "Crie duas matrizes:\n",
    "1. A matriz de receitas $\\boldsymbol{X}$, que tem um linha para cada receita da doceria e uma coluna para cada ingrediente usado, isto é, $x[i,j]$ representa a quantidade do ingrediente $j$ na receita $i$.\n",
    "2. A matriz de custos $\\boldsymbol{Y}$, que tem apenas uma coluna e cada linha representa o custo de cada ingrediente, na mesma ordem usada na matriz $\\boldsymbol{X}$.\n",
    "3. Veja que $\\boldsymbol{X}$ deveria ser uma matriz com 4x5 (isto é, 4 linhas e 5 colunas), e $\\boldsymbol{Y}$ deveria ser uma matriz 5x1, isto é, com 5 linhas e 1 coluna. Use o método `shape` para confirmar as dimensões das matrizes."
   ]
  },
  {
   "cell_type": "code",
   "execution_count": 24,
   "id": "b81743eb",
   "metadata": {},
   "outputs": [
    {
     "name": "stdout",
     "output_type": "stream",
     "text": [
      "[[1.   0.2  0.1  0.   0.  ]\n",
      " [0.   0.2  0.2  1.   0.  ]\n",
      " [1.   0.   0.   0.   0.  ]\n",
      " [0.5  0.   0.   0.   0.25]]\n",
      "[10.  15.  18.   2.8 35. ]\n",
      "(5,)\n",
      "[14.8   9.4  10.   13.75]\n",
      "47.95\n"
     ]
    }
   ],
   "source": [
    "X = np.array( [[1, 0.2, 0.1, 0, 0],\n",
    "               [0, 0.2, 0.2, 1, 0], \n",
    "               [1, 0, 0, 0, 0], \n",
    "               [1/2, 0, 0, 0, 1/4]])\n",
    "Y = np.array([10, 15, 18, 2.8, 35])\n",
    "print(X)\n",
    "print(Y)\n",
    "print(Y.shape)\n",
    "print(X@Y)\n",
    "print(np.sum(X@Y))"
   ]
  },
  {
   "cell_type": "markdown",
   "id": "ed8e6263",
   "metadata": {},
   "source": [
    "# Exercício 5\n",
    "**Objetivo: Usar multiplicação matricial para o modelo mais compacto**\n",
    "\n",
    "Uma operação importante que vamos usar hoje é a *multiplicação matricial* (*dot product*). A notação matemática para esta operação é:\n",
    "$$\n",
    "\\boldsymbol{Z} = \\boldsymbol{X} \\boldsymbol{Y}\n",
    "$$\n",
    "\n",
    "Essa operação cria uma matriz $\\boldsymbol{Z}$ tal que o elemento $z[i,j]$ é o produto interno entre a i-ésima linha de $\\boldsymbol{X}$ e a j-ésima coluna de $\\boldsymbol{Y}$, isto é:\n",
    "\n",
    "$$\n",
    "z[i,j] = <\\boldsymbol{X[i,:]}, \\boldsymbol{Y[:,j]}> = \\sum_{n=0}^{N-1} x[i,n] y[n,i]\n",
    "$$\n",
    "\n",
    "Veja por exemplo:\n",
    "$$ \\boldsymbol{x} = \n",
    "\\begin{bmatrix}\n",
    "    1 & 2\\\\\n",
    "    3 & 4\n",
    "\\end{bmatrix}\n",
    "$$\n",
    "\n",
    "$$ \\boldsymbol{y} = \n",
    "\\begin{bmatrix}\n",
    "    -1 \\\\\n",
    "    -2 \n",
    "\\end{bmatrix}\n",
    "$$\n",
    "\n",
    "$$ \\boldsymbol{z} = \n",
    "\\begin{bmatrix}\n",
    "    -1 \\times 1 + -2 \\times 2 \\\\\n",
    "    -1 \\times 3 + -2 \\times 4\n",
    "\\end{bmatrix}\n",
    "= \n",
    "\\begin{bmatrix}\n",
    "    -1 -4 \\\\\n",
    "    -3 -8\n",
    "\\end{bmatrix}\n",
    "= \n",
    "\\begin{bmatrix}\n",
    "    -5 \\\\\n",
    "    -11\n",
    "\\end{bmatrix}\n",
    "$$\n",
    "\n",
    "\n",
    "A multiplicação matricial pode ser representada em Python usando o operador `@` ou então a função `np.dot()`:"
   ]
  },
  {
   "cell_type": "code",
   "execution_count": 30,
   "id": "4320a064",
   "metadata": {},
   "outputs": [
    {
     "name": "stdout",
     "output_type": "stream",
     "text": [
      "[[ -5]\n",
      " [-11]]\n",
      "[[ -5]\n",
      " [-11]]\n"
     ]
    }
   ],
   "source": [
    "x_ = np.array([ [1, 2], \n",
    "               [3, 4] ])\n",
    "y_ = np.array([ [-1], \n",
    "               [-2]])\n",
    "z_ = x_ @ y_\n",
    "print(z_)\n",
    "z_ = np.dot(x_, y_)\n",
    "print(z_)"
   ]
  },
  {
   "cell_type": "markdown",
   "id": "c4f8d2cd",
   "metadata": {},
   "source": [
    "Para que a operação de multiplicação matricial seja possível, é preciso que haja tantas colunas em $X$ quanto linhas em $Y$, mas o número de linhas de $X$ e o de colunas em $Y$ é livre. Em outras palavras:\n",
    "\n",
    "* $X \\in \\mathbb{R}^{i \\times N}$\n",
    "* $Y \\in \\mathbb{R}^{N \\times j}$\n",
    "* $Z \\in \\mathbb{R}^{i \\times j}$\n",
    "\n",
    "Usamos uma notação $M \\in \\mathbb{R}^{A \\times B}$ (geralmente isso é lido como \"M pertence a R-A por B\") para significar que a matriz $M$ tem $A$ linhas e $B$ colunas. Essa notação vem da ideia do conjunto dos números reais ($\\mathbb{R}$) - lembre-se que, quando $x$ é um número real qualquer, dizemos que \"x pertence aos números reais, ou $x \\in \\mathbb{R}$. Da mesma forma, quando um vetor $v$ tem $N$ elementos, dizemos que ele pertence a \"R-N$, ou, $v \\in \\mathbb{R}^N$.\n",
    "\n",
    "1. Calcule (manualmente, no papel) o valor da matriz $z$ abaixo, e, após, confirme seu resultado usando Python. \n",
    "$$\n",
    "z = x y\\\\\n",
    "\n",
    "x =\n",
    "\\begin{bmatrix}\n",
    "    0 & 1\\\\\n",
    "    2 & 3\n",
    "\\end{bmatrix}\\\\ \n",
    "\n",
    "y =\n",
    "\\begin{bmatrix}\n",
    "    2 \\\\\n",
    "    1\n",
    "\\end{bmatrix}\n",
    "$$\n",
    "\n",
    "2. Se temos as matrizes $X$, com uma linha por receita e uma coluna por ingrediente, e $A$, com uma linha por ingrediente e apenas uma coluna, (a) qual deve ser a dimensão da matriz $Y=XA$? (b) O que cada elemento de $Y$ representa?\n",
    "\n",
    "3. Vamos supor que temos uma outra opção de mercado, com outros custos para os ingredientes. O que aconteceria com a interpretação dos elementos da matriz $Y$ do ítem acima se os preços do novo mercado fossem representados como uma nova coluna na matriz $A$?\n"
   ]
  },
  {
   "cell_type": "code",
   "execution_count": 29,
   "id": "2440d763",
   "metadata": {},
   "outputs": [
    {
     "name": "stdout",
     "output_type": "stream",
     "text": [
      "(2, 2)\n",
      "[[1]\n",
      " [7]]\n"
     ]
    }
   ],
   "source": [
    "x= np.array([[0, 1],[2, 3]])\n",
    "y= np.array([[2],[1]])\n",
    "print(x.shape)\n",
    "z= np.dot(x,y)\n",
    "print(z)"
   ]
  },
  {
   "cell_type": "markdown",
   "id": "08a35c22",
   "metadata": {},
   "source": [
    "(m x n) x (n x p) = m x p\n",
    "\n",
    "m =  linhas\n",
    "\n",
    "p =  colunas\n",
    "\n",
    "logo \n",
    "\n",
    "x = (numero de receitas x numero de ingredientes)\n",
    "\n",
    "A = (numero de ingredientes x 1)( preco de cada ingrediente)\n",
    "\n",
    "y = numero de receitas x 1\n",
    "\n",
    "logo \n",
    "\n",
    "y representa o custo total de cada receita\n",
    "\n",
    "logo se tivessem mais de opcao de preco para cada ingrediente A \n",
    "teria o numero de colunas maior\n",
    "\n"
   ]
  },
  {
   "cell_type": "markdown",
   "id": "4d1d9418",
   "metadata": {},
   "source": [
    "# Exercício 6\n",
    "**Objetivo: Interpretar a multiplicação matricial como um sistema com entradas e saídas**\n",
    "\n",
    "Nos exercícios acima, fizemos uma mutiplicação matricial. Partimos da matriz $X$, (receitas por ingrediente), e multiplicamos pela matriz $A$ (ingrediente por custo), gerando a matriz $Y$ (receitas por custo), ou: $Y = XA$.\n",
    "\n",
    "A multiplicação matricial poderia ser interpretada como uma função escrita em Python parecida com:\n",
    "\n",
    "    def calcular_custos(receitas, custos):\n",
    "        # Executa multiplicacao matricial\n",
    "        custos = receitas @ custos\n",
    "        return custos\n",
    "\n",
    "---\n",
    "\n",
    "1. A doceria gostaria de que seu preço de venda fosse sempre 10% superior ao custo com ingredientes. Faça um programa que calcula o preço de venda de cada receita usando multiplicações matriciais. Qual é o preço de venda de cada receita?\n",
    "3. A doceria decidiu fazer dois kits para vender: o kit A, que tem 100 brigadeiros e 1 pote de ganache, e o kit B, que tem 10 brigadeiros, 10 doces de coco e 2 potes de ganache. Faça um programa que calcula o preço de venda de cada kit usando multiplicações matriciais. Qual é o preço de venda de cada kit?\n",
    "4. Um cliente fez um pedido de dois kits A e três kits B. Usando apenas multiplicações matriciais (e o mesmo processo que fizemos ao longo deste exercício) qual é o preço total deste pedido?\n"
   ]
  },
  {
   "cell_type": "code",
   "execution_count": null,
   "id": "35d3e7bd",
   "metadata": {},
   "outputs": [],
   "source": [
    "\n",
    "def calcular_custos(receitas, ingredientes, custo_de_cada_ingrediente):\n",
    "    X = receitas @ ingredientes\n",
    "    C = X@custo_de_cada_ingrediente\n",
    "    P = 1.1* C\n",
    "    return P\n",
    "\n",
    "    "
   ]
  },
  {
   "cell_type": "code",
   "execution_count": null,
   "id": "637e4a22",
   "metadata": {},
   "outputs": [],
   "source": []
  }
 ],
 "metadata": {
  "kernelspec": {
   "display_name": "alglin",
   "language": "python",
   "name": "python3"
  },
  "language_info": {
   "codemirror_mode": {
    "name": "ipython",
    "version": 3
   },
   "file_extension": ".py",
   "mimetype": "text/x-python",
   "name": "python",
   "nbconvert_exporter": "python",
   "pygments_lexer": "ipython3",
   "version": "3.13.2"
  }
 },
 "nbformat": 4,
 "nbformat_minor": 5
}
