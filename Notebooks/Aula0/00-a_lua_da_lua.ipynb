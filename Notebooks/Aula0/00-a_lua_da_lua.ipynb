{
 "cells": [
  {
   "cell_type": "code",
   "execution_count": 2,
   "metadata": {},
   "outputs": [],
   "source": [
    "import matplotlib.pyplot as plt\n",
    "plt.style.use('default')\n",
    "import numpy as np"
   ]
  },
  {
   "attachments": {},
   "cell_type": "markdown",
   "metadata": {},
   "source": [
    "# A Lua da Lua"
   ]
  },
  {
   "attachments": {},
   "cell_type": "markdown",
   "metadata": {},
   "source": [
    "## Exercício 1: A Terra gira em torno do Sol\n",
    "\n",
    "O código abaixo tenta desenhar a órbita da Terra ao redor do Sol, assumindo que a órbita é circular (na verdade, ela é elíptica, mas queremos simplificar nossas contas para este exercício).\n",
    "\n",
    "1. A função `pos_terra` recebe como entrada o raio da órbita terrestre, a velocidade angular da órbita, e um dia específico. Como essa função funciona, e o que ela retorna?\n",
    "2. Escreva a função `pos_terra` na forma de um pseudo-código, usando funções matemáticas ao invés de funções de Python."
   ]
  },
  {
   "cell_type": "code",
   "execution_count": 3,
   "metadata": {},
   "outputs": [],
   "source": [
    "R_terra = 200\n",
    "v_terra = 1/365\n",
    "\n",
    "def pos_terra(R_terra, v_terra, dia):\n",
    "    return R_terra * np.cos(2*np.pi*dia*v_terra), R_terra * np.sin(2*np.pi*dia*v_terra)\n"
   ]
  },
  {
   "attachments": {},
   "cell_type": "markdown",
   "metadata": {},
   "source": [
    "## Exercício 2: A Lua gira em torno da Terra\n",
    "\n",
    "A função `pos_lua` funciona da mesma forma que a função `pos_terra`. Por que os parâmetros `R_lua` e `v_lua` são diferentes de `R_terra` e `v_terra`?\n"
   ]
  },
  {
   "cell_type": "code",
   "execution_count": 4,
   "metadata": {},
   "outputs": [],
   "source": [
    "R_lua = 100\n",
    "v_lua = 1/28\n",
    "\n",
    "def pos_lua(R_lua, v_lua, dia):\n",
    "    return R_lua * np.cos(2*np.pi*dia*v_lua), R_lua * np.sin(2*np.pi*dia*v_lua)\n"
   ]
  },
  {
   "attachments": {},
   "cell_type": "markdown",
   "metadata": {},
   "source": [
    "## Exercício 3: A Lua forma um desenho diferente em torno do Sol\n",
    "\n",
    "Faça um programa para desenhar a trajetória da Lua, assumindo que o Sol é o centro do sistema. Para isso:\n",
    "\n",
    "1. Escreva a equação matemática que permite saber a posição da Terra em relação ao Sol em um dia $d$\n",
    "2. Escreva a equação matemática que permite saber a posição da Lua em relação à Terra em um dia $d$\n",
    "3. Escreva a equação matemática que permite saber a posição da Lua em relação ao Sol em um dia $d$\n",
    "4. Faça seu código. Como podemos saber que ele está correto?"
   ]
  },
  {
   "cell_type": "code",
   "execution_count": null,
   "metadata": {},
   "outputs": [],
   "source": []
  },
  {
   "attachments": {},
   "cell_type": "markdown",
   "metadata": {},
   "source": [
    "## Exercício 4: e se a Lua tivesse uma \"sub-lua\"?\n",
    "\n",
    "Imagine que há algum outro objeto que está orbitando ao redor da Lua em uma órbita circular.\n",
    "\n",
    "Faça um código que permita visualizar a trajetória desse objeto assumindo o Sol como o centro do sistema. Para isso, faça todas as etapas de pseudo-código e equacionamento que vimos anteriormente."
   ]
  },
  {
   "cell_type": "code",
   "execution_count": null,
   "metadata": {},
   "outputs": [],
   "source": []
  }
 ],
 "metadata": {
  "kernelspec": {
   "display_name": "alglin (3.13.2)",
   "language": "python",
   "name": "python3"
  },
  "language_info": {
   "codemirror_mode": {
    "name": "ipython",
    "version": 3
   },
   "file_extension": ".py",
   "mimetype": "text/x-python",
   "name": "python",
   "nbconvert_exporter": "python",
   "pygments_lexer": "ipython3",
   "version": "3.13.2"
  },
  "orig_nbformat": 4
 },
 "nbformat": 4,
 "nbformat_minor": 2
}
