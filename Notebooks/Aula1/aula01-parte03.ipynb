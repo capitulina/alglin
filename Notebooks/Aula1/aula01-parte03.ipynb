{
 "cells": [
  {
   "cell_type": "markdown",
   "id": "6cd934e4",
   "metadata": {},
   "source": [
    "# Aula 01 - Parte 03"
   ]
  },
  {
   "cell_type": "code",
   "execution_count": 1,
   "id": "78dc7eb3",
   "metadata": {},
   "outputs": [
    {
     "name": "stdout",
     "output_type": "stream",
     "text": [
      "pygame 2.6.1 (SDL 2.28.4, Python 3.13.2)\n",
      "Hello from the pygame community. https://www.pygame.org/contribute.html\n"
     ]
    },
    {
     "name": "stderr",
     "output_type": "stream",
     "text": [
      "c:\\Users\\maria\\insper\\alglin\\alglin\\.venv\\Lib\\site-packages\\pygame\\pkgdata.py:25: UserWarning: pkg_resources is deprecated as an API. See https://setuptools.pypa.io/en/latest/pkg_resources.html. The pkg_resources package is slated for removal as early as 2025-11-30. Refrain from using this package or pin to Setuptools<81.\n",
      "  from pkg_resources import resource_stream, resource_exists\n"
     ]
    }
   ],
   "source": [
    "# Pacotes necessários. Resolva essas dependências antes de prosseguir!\n",
    "import matplotlib.pyplot as plt\n",
    "import numpy as np\n",
    "import pygame\n",
    "from pygame.locals import *"
   ]
  },
  {
   "cell_type": "markdown",
   "id": "5b4494ed",
   "metadata": {},
   "source": [
    "# Implementar sistemas dinâmicos"
   ]
  },
  {
   "cell_type": "markdown",
   "id": "c8fab880",
   "metadata": {},
   "source": [
    "## Exercício 1: analisar os efeitos da aceleração no movimento uniformemente variado\n",
    "\n",
    "O código abaixo simula uma situação na qual jogamos uma pequena pedra do alto de um prédio. Na simulação, temos dois fenômenos que acontecem a cada iteração. Primeiro, a velocidade é alterada através da expressão $\\boldsymbol {v_n} = \\boldsymbol {v_{n-1}} + a$. Depois disso, a posição é alterada pela expressão  $\\boldsymbol {s_n} = \\boldsymbol {s_{n-1}} + \\boldsymbol{v}_{n}$.\n",
    "\n",
    "1. No código abaixo, qual linha implementa a expressão $\\boldsymbol {v_n} = \\boldsymbol {v_{n-1}} + a$?\n",
    "2. No código abaixo, qual linha implementa a expressão $\\boldsymbol {s_n} = \\boldsymbol {s_{n-1}} + \\boldsymbol{v}_{n}$\n",
    "3. Por que uma das componentes da variável `a` é zero?\n",
    "4. Modifique o código para que a pedra seja arremessada com uma velocidade inicial com módulo mais alto\n",
    "5. Modifique o código para que a gravidade seja mais suave que a incialmente projetada\n",
    "   "
   ]
  },
  {
   "cell_type": "code",
   "execution_count": 52,
   "id": "5051c430",
   "metadata": {},
   "outputs": [],
   "source": [
    "pygame.init()\n",
    "\n",
    "# Tamanho da tela e definição do FPS\n",
    "screen = pygame.display.set_mode((400, 400))\n",
    "clock = pygame.time.Clock()\n",
    "FPS = 60  # Frames per Second\n",
    "\n",
    "BLACK = (0, 0, 0)\n",
    "COR_PERSONAGEM = (30, 200, 20)\n",
    "\n",
    "# Inicializar posicoes\n",
    "s0 = np.array([50,200])\n",
    "v0 = np.array([100, -10])\n",
    "a = np.array([0, 0.1])\n",
    "v = []\n",
    "s = []\n",
    "for i in range(50):\n",
    "    v.append(np.array(v0))\n",
    "    s.append(np.array(s0))\n",
    "\n",
    "\n",
    "# Personagem\n",
    "personagem = pygame.Surface((5, 5))  # Tamanho do personagem\n",
    "personagem.fill(COR_PERSONAGEM)  # Cor do personagem\n",
    "\n",
    "rodando = True\n",
    "while rodando:\n",
    "    # Capturar eventos\n",
    "    for event in pygame.event.get():\n",
    "        if event.type == pygame.QUIT:\n",
    "            rodando = False\n",
    "   \n",
    "    # if s[0]<10 or s[0]>390 or s[1]<10 or s[1]>390: # Se eu chegar ao limite da tela, reinicio a posição do personagem\n",
    "    #     s = s0\n",
    "    #     mouse_pos = np.array(pygame.mouse.get_pos())\n",
    "    #     direcao = mouse_pos - s0\n",
    "\n",
    "    #     direcao = direcao / np.linalg.norm(direcao)\n",
    "    mouse_pos = np.array(pygame.mouse.get_pos())\n",
    "    direcao = mouse_pos - s0\n",
    "\n",
    "    direcao = direcao / np.linalg.norm(direcao)\n",
    "    for i in range(50):\n",
    "        if s[i][0]<10 or s[i][0]>390 or s[i][0]<10 or s[i][0]>390:\n",
    "            s[i] = np.array(s0)\n",
    "            v[i] = direcao * 100 + np.random.randn(2) * 2  # Reinicia a posição e velocidade com um pouco de aleatoriedade\n",
    "            # Processar posicoes\n",
    "        v[i] = v[i] + a\n",
    "        s[i] = s[i] + 0.1 * v[i]\n",
    "            \n",
    "    \n",
    "\n",
    "        # define velocidade na direção do mouse, com intensidade base 10\n",
    "   \n",
    "        # rnd = np.random.randn(2) * 5\n",
    "        # v = v0 + rnd\n",
    "\n",
    "    # Controlar frame rate\n",
    "    clock.tick(FPS)\n",
    "    \n",
    "\n",
    "    \n",
    "\n",
    "    # Desenhar fundo\n",
    "    screen.fill(BLACK)\n",
    "    \n",
    "    for i in range(50):\n",
    "        # Desenhar personagem\n",
    "        rect = pygame.Rect(s[i], (10, 10))  # First tuple is position, second is size.\n",
    "        screen.blit(personagem, rect)\n",
    "\n",
    "\n",
    "    # Update!\n",
    "    pygame.display.update()\n",
    "\n",
    "# Terminar tela\n",
    "pygame.quit()"
   ]
  },
  {
   "cell_type": "markdown",
   "id": "3e20b98c",
   "metadata": {},
   "source": [
    "## Exercício 2: adicionar aleatoriedade ao sistema de partículas\n",
    "\n",
    "Modifique o código do exercício 19 de forma que a velocidade inicial da pedra seja levemente diferente a cada vez que ela é \"jogada\". Uma das maneiras de conseguir isso é usar um vetor de números aleatórios (`rnd = np.random.randn(2)`) que é multiplicado por algum fator de escala (experimente vários, de acordo com como gostar) e então somado à velocidade da partícula no momento em que ela é re-criada."
   ]
  },
  {
   "cell_type": "markdown",
   "id": "10e76daa",
   "metadata": {},
   "source": [
    "## Exercício 3: adicionar interatividade ao sistema de partículas\n",
    "\n",
    "Modifique novamente o código do exercício 19 de forma que, em adição à modificação feita no exercício 20, as partículas sejam disparadas sempre na direção do ponteiro do mouse do jogador."
   ]
  },
  {
   "cell_type": "markdown",
   "id": "e92bc1d9",
   "metadata": {},
   "source": [
    "## Exercício 4: operar com várias partículas simultaneamente\n",
    "\n",
    "Modifique novamente o código do exercício 19. Em adição às modificações já feitas, faça com que a simulação agora tenha 50 pedras operando simultaneamente, que são inicializadas do mesmo ponto (fazendo uma espécie de \"metralhadora\"). Como seria uma boa maneira de representar as posições e velocidades de 50 pedras diferentes?\n",
    "\n",
    "Após, altere o número máximo de partículas de sua simulação. Até quantas partículas você consegue simular sem ter travamentos na sua máquina?"
   ]
  },
  {
   "cell_type": "markdown",
   "id": "7e239f07",
   "metadata": {},
   "source": [
    "## Exercício 5: adicionar um atrator gravitacional\n",
    "\n",
    "Neste momento, estamos pensando na simulação do exercício 19 como jogar pedras de um penhasco. Agora, vamos pensar nela como jogar pequenos meteoritos no espaço sideral. Para isso:\n",
    "\n",
    "1. Escolha algum ponto da tela em que haverá um corpo celeste maior.\n",
    "2. Desenhe um círculo ao redor desse ponto, de forma a indicar onde ele se encontra.\n",
    "3. Remova a gravidade \"global\" que está sendo aplicada a todas as partículas simultaneamente.\n",
    "4. A cada iteração, para cada partícula, recalcule a aceleração devida à gravidade. Lembre-se que a aceleração gravitacional é um vetor com módulo $|a| = \\frac{c}{d^2}$, onde $c$ é uma constante (na verdade ela tem um significado físico, mas aqui podemos escolher para o valor que deixar sua simulação mais agradável) e $d$ é a distância entre os dois corpos. A aceleração gravitacional aplicada sobre cada partícula sempre aponta para o corpo celeste para onde a partícula está sendo atraída.\n",
    "5. Lembre-se de adicionar uma condição para que a partícula seja reiniciada caso se aproxime demais do corpo celeste.\n",
    "6. Modifique os parâmetros e constantes da sua simulação de forma que seja possível deixar algumas partículas em órbita."
   ]
  },
  {
   "cell_type": "markdown",
   "id": "e806e65d",
   "metadata": {},
   "source": [
    "## Exercício 6: adicionar um novo atrator gravitacional\n",
    "\n",
    "Tomando por base o código que você já tem do exercício 23 (que é o código do exercício 19 modificado!), adicione um novo atrator gravitacional, em um outro ponto da tela. Ao fazer isso, passamos a ter dois corpos celestes exercendo atração gravitacional sobre nossas partículas. Quando isso acontece, a aceleração resultante sobre cada partícula é a soma (vetorial) de cada uma das atrações devidas aos corpos celestes individualmente.\n",
    "\n",
    "Modifique seus parâmetros e interaja com o sistema de forma que algumas partículas fiquem em órbita de um corpo celeste e outras partículas fiquem em órbita do outro corpo celeste.\n"
   ]
  },
  {
   "cell_type": "markdown",
   "id": "e3f2dc21",
   "metadata": {},
   "source": []
  }
 ],
 "metadata": {
  "kernelspec": {
   "display_name": "alglin",
   "language": "python",
   "name": "python3"
  },
  "language_info": {
   "codemirror_mode": {
    "name": "ipython",
    "version": 3
   },
   "file_extension": ".py",
   "mimetype": "text/x-python",
   "name": "python",
   "nbconvert_exporter": "python",
   "pygments_lexer": "ipython3",
   "version": "3.13.2"
  }
 },
 "nbformat": 4,
 "nbformat_minor": 5
}
