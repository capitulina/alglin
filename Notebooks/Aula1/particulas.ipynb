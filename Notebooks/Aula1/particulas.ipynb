{
 "cells": [
  {
   "cell_type": "code",
   "execution_count": 9,
   "metadata": {},
   "outputs": [],
   "source": [
    "import numpy as np \n",
    "import matplotlib.pyplot as plt\n",
    "from dataclasses import dataclass, field\n",
    "from typing import List"
   ]
  },
  {
   "cell_type": "code",
   "execution_count": 14,
   "metadata": {},
   "outputs": [],
   "source": [
    "@dataclass\n",
    "class Particula:\n",
    "    carga : float\n",
    "    massa : float\n",
    "    velocidade : np.ndarray\n",
    "    posicao : np.ndarray\n",
    "    posicoes : List[np.ndarray] = field(default_factory=list)"
   ]
  },
  {
   "cell_type": "code",
   "execution_count": 15,
   "metadata": {},
   "outputs": [
    {
     "name": "stdout",
     "output_type": "stream",
     "text": [
      "Particula(carga=1.6e-19, massa=1.67e-27, velocidade=array([0, 0]), posicao=array([0, 0]), posicoes=[])\n"
     ]
    }
   ],
   "source": [
    "part = Particula(\n",
    "    carga=1.6e-19,\n",
    "    massa=1.67e-27,\n",
    "    velocidade=np.array([0, 0]),\n",
    "    posicao=np.array([0, 0]),\n",
    ")\n",
    "\n",
    "print(part)"
   ]
  },
  {
   "cell_type": "code",
   "execution_count": 41,
   "metadata": {},
   "outputs": [],
   "source": [
    "def forca_eletrostatica(p1 : Particula, p2 : Particula, k = 9e9, epsilon = 1e-3):\n",
    "    r = p2.posicao - p1.posicao\n",
    "    r_norm = max(np.linalg.norm(r), epsilon)\n",
    "    modulo_da_forca = -k * p1.carga * p2.carga / r_norm**2\n",
    "    forca_sobre_p1 = modulo_da_forca * r / r_norm\n",
    "    forca_sobre_p2 = -forca_sobre_p1\n",
    "    return forca_sobre_p1, forca_sobre_p2\n",
    "\n"
   ]
  },
  {
   "cell_type": "code",
   "execution_count": 52,
   "metadata": {},
   "outputs": [
    {
     "data": {
      "text/plain": [
       "(array([1., 0.]), array([-1., -0.]))"
      ]
     },
     "execution_count": 52,
     "metadata": {},
     "output_type": "execute_result"
    }
   ],
   "source": [
    "p1 = Particula(\n",
    "    carga=-1,\n",
    "    massa=1,\n",
    "    velocidade=np.array([0, 0]),\n",
    "    posicao=np.array([0, 0]),\n",
    ")\n",
    "\n",
    "p2 = Particula(\n",
    "    carga=1,\n",
    "    massa=1,\n",
    "    velocidade=np.array([1, 0]),\n",
    "    posicao=np.array([1, 0]),\n",
    ")\n",
    "\n",
    "forca_eletrostatica(p1, p2, k=1)"
   ]
  },
  {
   "cell_type": "code",
   "execution_count": 53,
   "metadata": {},
   "outputs": [],
   "source": [
    "def aplicar_forca_sobre_particula(\n",
    "    p: Particula,\n",
    "    forca: np.ndarray,\n",
    "    dt,\n",
    "):\n",
    "    aceleracao = forca / p.massa\n",
    "    p.velocidade += aceleracao * dt\n",
    "    return p\n",
    "\n",
    "def movimentar_particula(p: Particula, dt):\n",
    "    p.posicao += p.velocidade * dt\n",
    "    p.posicoes.append(p.posicao)\n",
    "    return p"
   ]
  },
  {
   "cell_type": "code",
   "execution_count": 61,
   "metadata": {},
   "outputs": [],
   "source": [
    "def criar_uma_particula_aleatoria():\n",
    "    return Particula(\n",
    "        carga=np.random.uniform(1,10,size=1)[0] * 0.1 * np.random.choice([-1, 1]),\n",
    "        massa=np.random.uniform(0.1, 2),\n",
    "        velocidade=np.zeros([0, 0]),\n",
    "        posicao=np.random.uniform(-1, 1, size=2),\n",
    "    )\n",
    "\n",
    "def criar_varias_particulas_aleatorias(n : int):\n",
    "    return [criar_uma_particula_aleatoria() for _ in range(n)]\n",
    "\n",
    "particulas = criar_varias_particulas_aleatorias(10)\n"
   ]
  },
  {
   "cell_type": "code",
   "execution_count": 63,
   "metadata": {},
   "outputs": [],
   "source": [
    "def calcular_forcas_para_todos_os_pares(\n",
    "    lista_de_particulas: List[Particula],\n",
    "    dt,\n",
    "):\n",
    "    for i, p1 in enumerate(lista_de_particulas):\n",
    "        for j, p2 in enumerate(lista_de_particulas):\n",
    "            if i == j:\n",
    "                continue\n",
    "            forca_p1, forca_p2 = forca_eletrostatica(p1, p2)\n",
    "            p1 = aplicar_forca_sobre_particula(p1, forca_p1, dt)\n",
    "            p2 = aplicar_forca_sobre_particula(p2, forca_p2, dt)\n",
    "    return lista_de_particulas\n",
    "\n",
    "def resetar_velocidades_para_todas_as_particulas(\n",
    "    lista_de_particulas: List[Particula],\n",
    "):\n",
    "    for p in lista_de_particulas:\n",
    "        p.velocidade = np.zeros(2)\n",
    "    return lista_de_particulas\n",
    "\n",
    "\n",
    "def calcular_movimentos_para_todas_as_particulas(\n",
    "    lista_de_particulas: List[Particula],\n",
    "    dt,\n",
    "):\n",
    "    for p in lista_de_particulas:\n",
    "        p = movimentar_particula(p, dt)\n",
    "    return lista_de_particulas\n"
   ]
  },
  {
   "cell_type": "code",
   "execution_count": 64,
   "metadata": {},
   "outputs": [
    {
     "ename": "ValueError",
     "evalue": "operands could not be broadcast together with shapes (0,0) (2,) (0,0) ",
     "output_type": "error",
     "traceback": [
      "\u001b[0;31m---------------------------------------------------------------------------\u001b[0m",
      "\u001b[0;31mValueError\u001b[0m                                Traceback (most recent call last)",
      "Cell \u001b[0;32mIn[64], line 3\u001b[0m\n\u001b[1;32m      1\u001b[0m dt \u001b[38;5;241m=\u001b[39m \u001b[38;5;241m0.01\u001b[39m\n\u001b[1;32m      2\u001b[0m \u001b[38;5;28;01mfor\u001b[39;00m _ \u001b[38;5;129;01min\u001b[39;00m \u001b[38;5;28mrange\u001b[39m(\u001b[38;5;241m100\u001b[39m):\n\u001b[0;32m----> 3\u001b[0m     \u001b[43mcalcular_forcas_para_todos_os_pares\u001b[49m\u001b[43m(\u001b[49m\u001b[43mparticulas\u001b[49m\u001b[43m,\u001b[49m\u001b[43m \u001b[49m\u001b[43mdt\u001b[49m\u001b[38;5;241;43m=\u001b[39;49m\u001b[43mdt\u001b[49m\u001b[43m)\u001b[49m\n\u001b[1;32m      4\u001b[0m     calcular_movimentos_para_todas_as_particulas(particulas, dt\u001b[38;5;241m=\u001b[39mdt)\n\u001b[1;32m      5\u001b[0m     resetar_velocidades_para_todas_as_particulas(particulas)\n",
      "Cell \u001b[0;32mIn[63], line 10\u001b[0m, in \u001b[0;36mcalcular_forcas_para_todos_os_pares\u001b[0;34m(lista_de_particulas, dt)\u001b[0m\n\u001b[1;32m      8\u001b[0m             \u001b[38;5;28;01mcontinue\u001b[39;00m\n\u001b[1;32m      9\u001b[0m         forca_p1, forca_p2 \u001b[38;5;241m=\u001b[39m forca_eletrostatica(p1, p2)\n\u001b[0;32m---> 10\u001b[0m         p1 \u001b[38;5;241m=\u001b[39m \u001b[43maplicar_forca_sobre_particula\u001b[49m\u001b[43m(\u001b[49m\u001b[43mp1\u001b[49m\u001b[43m,\u001b[49m\u001b[43m \u001b[49m\u001b[43mforca_p1\u001b[49m\u001b[43m,\u001b[49m\u001b[43m \u001b[49m\u001b[43mdt\u001b[49m\u001b[43m)\u001b[49m\n\u001b[1;32m     11\u001b[0m         p2 \u001b[38;5;241m=\u001b[39m aplicar_forca_sobre_particula(p2, forca_p2, dt)\n\u001b[1;32m     12\u001b[0m \u001b[38;5;28;01mreturn\u001b[39;00m lista_de_particulas\n",
      "Cell \u001b[0;32mIn[53], line 7\u001b[0m, in \u001b[0;36maplicar_forca_sobre_particula\u001b[0;34m(p, forca, dt)\u001b[0m\n\u001b[1;32m      1\u001b[0m \u001b[38;5;28;01mdef\u001b[39;00m \u001b[38;5;21maplicar_forca_sobre_particula\u001b[39m(\n\u001b[1;32m      2\u001b[0m     p: Particula,\n\u001b[1;32m      3\u001b[0m     forca: np\u001b[38;5;241m.\u001b[39mndarray,\n\u001b[1;32m      4\u001b[0m     dt,\n\u001b[1;32m      5\u001b[0m ):\n\u001b[1;32m      6\u001b[0m     aceleracao \u001b[38;5;241m=\u001b[39m forca \u001b[38;5;241m/\u001b[39m p\u001b[38;5;241m.\u001b[39mmassa\n\u001b[0;32m----> 7\u001b[0m     \u001b[43mp\u001b[49m\u001b[38;5;241;43m.\u001b[39;49m\u001b[43mvelocidade\u001b[49m\u001b[43m \u001b[49m\u001b[38;5;241;43m+\u001b[39;49m\u001b[38;5;241;43m=\u001b[39;49m\u001b[43m \u001b[49m\u001b[43maceleracao\u001b[49m\u001b[43m \u001b[49m\u001b[38;5;241;43m*\u001b[39;49m\u001b[43m \u001b[49m\u001b[43mdt\u001b[49m\n\u001b[1;32m      8\u001b[0m     \u001b[38;5;28;01mreturn\u001b[39;00m p\n",
      "\u001b[0;31mValueError\u001b[0m: operands could not be broadcast together with shapes (0,0) (2,) (0,0) "
     ]
    }
   ],
   "source": [
    "dt = 0.01\n",
    "for _ in range(100):\n",
    "    calcular_forcas_para_todos_os_pares(particulas, dt=dt)\n",
    "    calcular_movimentos_para_todas_as_particulas(particulas, dt=dt)\n",
    "    resetar_velocidades_para_todas_as_particulas(particulas)\n",
    "    \n"
   ]
  },
  {
   "cell_type": "code",
   "execution_count": null,
   "metadata": {},
   "outputs": [],
   "source": []
  }
 ],
 "metadata": {
  "kernelspec": {
   "display_name": "aulas",
   "language": "python",
   "name": "python3"
  },
  "language_info": {
   "codemirror_mode": {
    "name": "ipython",
    "version": 3
   },
   "file_extension": ".py",
   "mimetype": "text/x-python",
   "name": "python",
   "nbconvert_exporter": "python",
   "pygments_lexer": "ipython3",
   "version": "3.12.5"
  }
 },
 "nbformat": 4,
 "nbformat_minor": 2
}
