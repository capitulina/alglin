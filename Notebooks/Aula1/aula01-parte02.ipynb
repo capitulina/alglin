{
 "cells": [
  {
   "cell_type": "markdown",
   "id": "ba568aa5",
   "metadata": {},
   "source": [
    "# Aula 01 - Parte 02"
   ]
  },
  {
   "cell_type": "code",
   "execution_count": 2,
   "id": "b5d62e19",
   "metadata": {},
   "outputs": [],
   "source": [
    "# Pacotes necessários. Resolva essas dependências antes de prosseguir!\n",
    "import matplotlib.pyplot as plt\n",
    "import numpy as np\n",
    "import pygame\n",
    "from pygame.locals import *\n",
    "import math"
   ]
  },
  {
   "cell_type": "markdown",
   "id": "1e87f190",
   "metadata": {},
   "source": [
    "## Exercício 1: relacionar um vetor à hipotenusa de um triângulo retângulo\n",
    "\n",
    "Veja a figura abaixo. A seta correspondente ao vetor cobre a [hipotenusa](https://pt.wikipedia.org/wiki/Hipotenusa) de um [triângulo retângulo](https://pt.wikipedia.org/wiki/Tri%C3%A2ngulo_ret%C3%A2ngulo).\n",
    "\n",
    "1. Qual é o comprimento do [cateto](https://pt.wikipedia.org/wiki/Cateto) azul?  2\n",
    "2. Qual é o comprimento do [cateto](https://pt.wikipedia.org/wiki/Cateto) vermelho? 1\n",
    "3. Qual é o comprimento do vetor representado (dica: use o [Teorema de Pitágoras](https://www.mathsisfun.com/geometry/pythagorean-theorem-proof.html))?"
   ]
  },
  {
   "cell_type": "code",
   "execution_count": 15,
   "id": "e341f105",
   "metadata": {},
   "outputs": [
    {
     "name": "stdout",
     "output_type": "stream",
     "text": [
      "2.23606797749979\n"
     ]
    }
   ],
   "source": [
    "# c = √a² + b²\n",
    "c = math.sqrt(1**2 + 2**2)\n",
    "print(c)\n"
   ]
  },
  {
   "cell_type": "code",
   "execution_count": 2,
   "id": "28af7ef5",
   "metadata": {},
   "outputs": [
    {
     "data": {
      "image/png": "[encoded data removed]",
      "text/plain": [
       "<Figure size 500x500 with 1 Axes>"
      ]
     },
     "metadata": {},
     "output_type": "display_data"
    }
   ],
   "source": [
    "plt.figure(figsize=(5,5))\n",
    "plt.arrow(0,0,1,2,length_includes_head=True,head_width=0.1)\n",
    "plt.plot([0,1], [0,0],'r')\n",
    "plt.plot([1,1], [0,2],'b')\n",
    "plt.xlim([-1,2])\n",
    "plt.ylim([-1,2])\n",
    "plt.grid()\n",
    "plt.show()"
   ]
  },
  {
   "cell_type": "markdown",
   "id": "2c7b9dc9",
   "metadata": {},
   "source": [
    "## Exercício 2: calcular o módulo de vetores em duas dimensões\n",
    "\n",
    "O comprimento da seta que representa um vetor no plano cartesiano é chamado de *módulo* do vetor. Dependendo da referência bibliográfica, o módulo é também chamado de *norma*, ou de *comprimento*. O módulo de um vetor $\\boldsymbol {x}$ é representado usando barras verticais. Duas notações comuns são: $|\\boldsymbol{x}|$ e $||\\boldsymbol{x}||$. Como vimos, de acordo com o [Teorema de Pitágoras](https://www.mathsisfun.com/geometry/pythagorean-theorem-proof.html), o módulo de um vetor de duas dimensões pode ser calculado por:\n",
    "\n",
    "$$\n",
    "|\\boldsymbol{x}| = \\sqrt{x_1^2 + x_2^2}\n",
    "$$\n",
    "\n",
    "Calcule (manualmente ou programando! se achar necessário, faça um desenho) os módulos dos vetores:\n",
    "\n",
    "1. $[3, 4]$\n",
    "2. $[6, 8]$\n",
    "3. $[9, 12]$\n",
    "4. $[-3, 4]$\n",
    "5. $[-3, -4]$\n",
    "6. $[3, -4]$"
   ]
  },
  {
   "cell_type": "code",
   "execution_count": null,
   "id": "0ae53316",
   "metadata": {},
   "outputs": [
    {
     "name": "stdout",
     "output_type": "stream",
     "text": [
      "5.0\n",
      "10.0\n",
      "15.0\n",
      "5.0\n",
      "5.0\n",
      "5.0\n"
     ]
    }
   ],
   "source": [
    "x1 =  math.sqrt(3**2 + 4**2)\n",
    "x2 =  math.sqrt(6**2 + 8**2)\n",
    "x3 =  math.sqrt(9**2 + 12**2)  \n",
    "x4 =  math.sqrt(((-3)**2 )+(4**2))\n",
    "x5 =  math.sqrt(((-3)**2) + ((-4)**2))\n",
    "x6 =  math.sqrt((3**2) + ((-4)**2)) \n",
    "print(x1)\n",
    "print(x2)\n",
    "print(x3)\n",
    "print(x4)\n",
    "print(x5)\n",
    "print(x6)    "
   ]
  },
  {
   "cell_type": "markdown",
   "id": "50b8a449",
   "metadata": {},
   "source": [
    "## Exercício 3: calcular módulo de vetores em dimensão alta\n",
    "\n",
    "Quando um vetor tem mais de duas dimensões (por exemplo, $n$ dimensões), o Teorema de Pitágoras pode ser generalizado para encontrar o módulo:\n",
    "\n",
    "$$\n",
    "|\\boldsymbol{x}| = \\sqrt{x_1^2 + x_2^2 + x_3^2 + ... + x_n^2}\n",
    "$$\n",
    "\n",
    "Faça um programa em Python para encontrar o módulo do vetor $\\boldsymbol {x}$ definido abaixo. Seu programa deve funcionar também para calcular o módulo do vetor $\\boldsymbol {y}$, que tem tamanho definido aleatoriamente a cada nova execução. Implemente seu cálculo usando um laço explícito, iterando sobre as dimensões dos vetores. Após, confira sua reposta comparando com a instrução `np.abs(x)`."
   ]
  },
  {
   "cell_type": "code",
   "execution_count": 19,
   "id": "d04989e8",
   "metadata": {},
   "outputs": [
    {
     "data": {
      "text/plain": [
       "4.9780938686414755"
      ]
     },
     "execution_count": 19,
     "metadata": {},
     "output_type": "execute_result"
    }
   ],
   "source": [
    "x = np.array([4, -2, 3, 2, 0.5, 0, 1, 2, 1, 3, 2, -1, 0.123, 0.432, 1.1212])\n",
    "y = np.random.random(np.random.randint(30,70))  \n",
    "\n",
    "\n",
    "soma = 0\n",
    "for i in range(len(y)):\n",
    "    soma += y[i]**2\n",
    "\n",
    "math.sqrt(soma)"
   ]
  },
  {
   "cell_type": "markdown",
   "id": "f99169e5",
   "metadata": {},
   "source": [
    "# Usar a representação polar de vetores"
   ]
  },
  {
   "cell_type": "markdown",
   "id": "073b11db",
   "metadata": {},
   "source": [
    "## Exercício 4: calcular o ângulo entre um vetor e o eixo horizontal\n",
    "\n",
    "Neste exercício, calcularemos o ângulo entre o eixo horizontal (eixo x) e a seta que representa o vetor. Esse ângulo representa a direção do vetor e geralmente é referido como $\\phi$ (a letra grega *fi*). O ângulo é comumente chamado de *argumento*.\n",
    "\n",
    "1. Qual é o comprimento do vetor $\\boldsymbol{v}$ representado abaixo? \\sqrt{2}\n",
    "2. Qual dos ângulos do triângulo formado na figura é $\\phi$? o de baixo na esquerda\n",
    "3. Qual é a tangente de $\\phi$? 1\n",
    "4. Usando seus conhecimentos de trigonometria, calcule $\\phi$ em [radianos](https://pt.wikipedia.org/wiki/Radiano) e em graus. π/4, 45\n",
    "5. Usando a função `np.arctan`, calcule $\\phi$ em [radianos](https://pt.wikipedia.org/wiki/Radiano) e em graus.\n",
    "6. Usando a função `np.arctan2`, calcule $\\phi$ em [radianos](https://pt.wikipedia.org/wiki/Radiano) e em graus.\n",
    "7. Repita o exercício para $\\boldsymbol{v} = [1,2]$"
   ]
  },
  {
   "cell_type": "code",
   "execution_count": 24,
   "id": "68f0d72b",
   "metadata": {},
   "outputs": [
    {
     "name": "stdout",
     "output_type": "stream",
     "text": [
      "0.6657737500283538\n",
      "0.7853981633974483\n"
     ]
    }
   ],
   "source": [
    "penis = np.arctan(np.deg2rad(45))\n",
    "print(penis)\n",
    "penis2 =np.arctan2(1, 1)  # retorna π/4 radianos (45 graus)\n",
    "print(penis2)"
   ]
  },
  {
   "cell_type": "code",
   "execution_count": 4,
   "id": "234b9514",
   "metadata": {},
   "outputs": [
    {
     "data": {
      "image/png": "[encoded data removed]",
      "text/plain": [
       "<Figure size 500x500 with 1 Axes>"
      ]
     },
     "metadata": {},
     "output_type": "display_data"
    }
   ],
   "source": [
    "import numpy as np\n",
    "import matplotlib.pyplot as plt \n",
    "v = np.array([1, 1])\n",
    "plt.figure(figsize=(5,5))\n",
    "plt.arrow(0,0,v[0],v[1],length_includes_head=True,head_width=0.1)\n",
    "plt.plot([0,v[0]], [0,0],'r')\n",
    "plt.plot([v[0],v[0]], [0,v[1]],'b')\n",
    "plt.xlim([-1,3])\n",
    "plt.ylim([-1,3])\n",
    "plt.grid()\n",
    "plt.show()"
   ]
  },
  {
   "cell_type": "markdown",
   "id": "5297e3ca",
   "metadata": {},
   "source": [
    "## Exercício 5: calcular o efeito de multiplicações por escalares no módulo e no argumento de vetores\n",
    "\n",
    "Manipule o vetor $\\boldsymbol{v}$ no código abaixo para responder às seguintes questões:\n",
    "1. Inicialmente, calcule o módulo e o argumento de $\\boldsymbol{v}$.\n",
    "2. Calcule o módulo e o argumento de $2 \\boldsymbol{v}$\n",
    "3. Escolha um número positivo qualquer $a$ e calcule o módulo e o argumento de $a \\boldsymbol{v}$\n",
    "4. Escolha um número negativo qualquer $b$ e calcule o módulo e o argumento de $b \\boldsymbol{v}$\n",
    "5. Escreva: o que acontece com o módulo e o argumento de um vetor quando o vetor é multiplicado por um número qualquer? "
   ]
  },
  {
   "cell_type": "code",
   "execution_count": null,
   "id": "7d94a77a",
   "metadata": {},
   "outputs": [
    {
     "data": {
      "text/plain": [
       "np.float64(2.8284271247461903)"
      ]
     },
     "execution_count": 27,
     "metadata": {},
     "output_type": "execute_result"
    }
   ],
   "source": [
    "np.linalg.norm(v) \n",
    "np.linalg.norm(2*v) \n"
   ]
  },
  {
   "cell_type": "code",
   "execution_count": 32,
   "id": "46ddbb4a",
   "metadata": {},
   "outputs": [
    {
     "data": {
      "image/png": "[encoded data removed]",
      "text/plain": [
       "<Figure size 500x500 with 1 Axes>"
      ]
     },
     "metadata": {},
     "output_type": "display_data"
    },
    {
     "name": "stdout",
     "output_type": "stream",
     "text": [
      "2.8284271247461903\n",
      "-2.356194490192345\n"
     ]
    }
   ],
   "source": [
    "v = -2* np.array([1, 1])\n",
    "plt.figure(figsize=(5,5))\n",
    "plt.arrow(0,0,v[0],v[1],length_includes_head=True,head_width=0.1)\n",
    "plt.plot([0,v[0]], [0,0],'r')\n",
    "plt.plot([v[0],v[0]], [0,v[1]],'b')\n",
    "plt.xlim([-3,3])\n",
    "plt.ylim([-3,3])\n",
    "plt.grid()\n",
    "plt.show()\n",
    "print(np.linalg.norm(v))\n",
    "print(np.arctan2(v[1], v[0]))  \n"
   ]
  },
  {
   "cell_type": "markdown",
   "id": "d97f467f",
   "metadata": {},
   "source": [
    "## Exercício 6: deduzir matematicamente o procedimento para normalizar um vetor\n",
    "\n",
    "Quando dois vetores têm o mesmo argumento, dizemos que eles têm a mesma direção.\n",
    "\n",
    "Se temos um vetor $\\boldsymbol{v}$ com módulo $|\\boldsymbol{v}|$, como podemos encontrar um vetor $\\boldsymbol{w}$ com a mesma direção de $\\boldsymbol{v}$ e com módulo igual a 1?"
   ]
  },
  {
   "cell_type": "code",
   "execution_count": 33,
   "id": "531a7f2e",
   "metadata": {},
   "outputs": [
    {
     "data": {
      "text/plain": [
       "np.float64(1.0)"
      ]
     },
     "execution_count": 33,
     "metadata": {},
     "output_type": "execute_result"
    }
   ],
   "source": [
    "v = np.array([6,4])\n",
    "v_mod =np.linalg.norm(v)\n",
    "w=v/v_mod\n",
    "w_mod = np.linalg.norm(w)\n",
    "w_mod"
   ]
  },
  {
   "cell_type": "markdown",
   "id": "53ea0249",
   "metadata": {},
   "source": [
    "## Exercício 7: usar operações vetoriais de `numpy` para calcular o módulo de vetores\n",
    "\n",
    "As três funções abaixo retornam o módulo de um vetor recebido como entrada.\n",
    "1. Verifique se essas funções retornam resultados corretos\n",
    "2. Qual das implementações você acha mais compacta? Por que?"
   ]
  },
  {
   "cell_type": "code",
   "execution_count": 35,
   "id": "44c7dcc6",
   "metadata": {},
   "outputs": [
    {
     "name": "stdout",
     "output_type": "stream",
     "text": [
      "7.211102550927978\n",
      "7.211102550927978\n",
      "7.211102550927978\n"
     ]
    }
   ],
   "source": [
    "def modulo_A(x):\n",
    "    mod = 0\n",
    "    for i in range(len(x)):\n",
    "        mod += x[i]**2\n",
    "    mod = mod**0.5\n",
    "    return mod\n",
    "\n",
    "def modulo_B(x):\n",
    "    mod = np.sqrt (np.sum(x**2))\n",
    "    return mod\n",
    "\n",
    "def modulo_C(x):\n",
    "    mod = np.linalg.norm(x)\n",
    "    return mod\n",
    "\n",
    "print(modulo_A(v))\n",
    "print(modulo_B(v))\n",
    "print(modulo_C(v))"
   ]
  },
  {
   "cell_type": "markdown",
   "id": "2bd16a65",
   "metadata": {},
   "source": [
    "## Exercício 8: aplicar a normalização de vetor em um contexto de jogo digital\n",
    "\n",
    "O pequeno jogo abaixo foi trabalhado na aula anterior. Nele, um pequeno ponto verde segue o ponteiro do mouse. No comportamento que está implementado, o ponto verde se move mais rápido quando está distante do ponteiro, e mais lento quando se aproxima. \n",
    "\n",
    "1. Por que o ponto se move mais rapidamente quando está mais longe do ponteiro do mouse?\n",
    "2. Modifique o código de forma que o módulo da velocidade do ponto seja sempre constante e igual a 5."
   ]
  },
  {
   "cell_type": "code",
   "execution_count": 38,
   "id": "911de52d",
   "metadata": {},
   "outputs": [],
   "source": [
    "pygame.init()\n",
    "\n",
    "# Tamanho da tela e definição do FPS\n",
    "screen = pygame.display.set_mode((400, 400))\n",
    "clock = pygame.time.Clock()\n",
    "FPS = 60  # Frames per Second\n",
    "\n",
    "BLACK = (0, 0, 0)\n",
    "COR_PERSONAGEM = (30, 200, 20)\n",
    "\n",
    "# Inicializar posicoes\n",
    "s0 = np.array([200,200])\n",
    "v = np.array([-1, -1])\n",
    "s = s0\n",
    "\n",
    "# Personagem\n",
    "personagem = pygame.Surface((5, 5))  # Tamanho do personagem\n",
    "personagem.fill(COR_PERSONAGEM)  # Cor do personagem\n",
    "\n",
    "rodando = True\n",
    "while rodando:\n",
    "    # Capturar eventos\n",
    "    for event in pygame.event.get():\n",
    "        if event.type == pygame.QUIT:\n",
    "            rodando = False\n",
    "\n",
    "    # Controlar frame rate\n",
    "    clock.tick(FPS)\n",
    "\n",
    "    # Processar posicoes\n",
    "    y = pygame.mouse.get_pos()\n",
    "    v = y - s\n",
    "    v_mod = np.linalg.norm(v)\n",
    "    w=(v/v_mod)* 10\n",
    "    \n",
    "    \n",
    "    s = s + 0.1 * w\n",
    "\n",
    "    # Desenhar fundo\n",
    "    screen.fill(BLACK)\n",
    "\n",
    "    # Desenhar personagem\n",
    "    rect = pygame.Rect(s, (10, 10))  # First tuple is position, second is size.\n",
    "    screen.blit(personagem, rect)\n",
    "\n",
    "    # Update!\n",
    "    pygame.display.update()\n",
    "\n",
    "# Terminar tela\n",
    "pygame.quit()"
   ]
  },
  {
   "cell_type": "code",
   "execution_count": null,
   "id": "07e657cb",
   "metadata": {},
   "outputs": [],
   "source": []
  }
 ],
 "metadata": {
  "kernelspec": {
   "display_name": "alglin",
   "language": "python",
   "name": "python3"
  },
  "language_info": {
   "codemirror_mode": {
    "name": "ipython",
    "version": 3
   },
   "file_extension": ".py",
   "mimetype": "text/x-python",
   "name": "python",
   "nbconvert_exporter": "python",
   "pygments_lexer": "ipython3",
   "version": "3.13.2"
  }
 },
 "nbformat": 4,
 "nbformat_minor": 5
}
